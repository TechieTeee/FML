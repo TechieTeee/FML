{
  "cells": [
    {
      "cell_type": "markdown",
      "metadata": {
        "id": "4dojkfmqQuNU"
      },
      "source": [
        "# Strategies in Federated Learning\n",
        "\n",
        "Welcome to the next part of the federated learning tutorial. In previous parts of this tutorial, we introduced federated learning with PyTorch and Flower ([part 1](https://flower.dev/docs/tutorial/Flower-1-Intro-to-FL-PyTorch.html)).\n",
        "\n",
        "In this notebook, we'll begin to customize the federated learning system we built in the introductory notebook (again, using [Flower](https://flower.dev/) and [PyTorch](https://pytorch.org/)).\n",
        "\n",
        "> [Star Flower on GitHub](https://github.com/adap/flower) ⭐️ and join the Flower community on Slack to connect, ask questions, and get help: [Join Slack](https://flower.dev/join-slack) 🌼 We'd love to hear from you in the `#introductions` channel! And if anything is unclear, head over to the `#questions` channel.\n",
        "\n",
        "Let's move beyond FedAvg with Flower Strategies!"
      ]
    },
    {
      "cell_type": "markdown",
      "metadata": {
        "id": "PM5E_vKpQuNX"
      },
      "source": [
        "## Preparation\n",
        "\n",
        "Before we begin with the actual code, let's make sure that we have everything we need."
      ]
    },
    {
      "cell_type": "markdown",
      "metadata": {
        "id": "r24yb-NeQuNY"
      },
      "source": [
        "### Installing dependencies\n",
        "\n",
        "First, we install the necessary packages:"
      ]
    },
    {
      "cell_type": "code",
      "execution_count": null,
      "metadata": {
        "id": "e9kVEdXZQuNY",
        "colab": {
          "base_uri": "https://localhost:8080/"
        },
        "outputId": "8eada350-485a-48c5-8c23-6ff18c18a7f2"
      },
      "outputs": [
        {
          "output_type": "stream",
          "name": "stdout",
          "text": [
            "\u001b[2K     \u001b[90m━━━━━━━━━━━━━━━━━━━━━━━━━━━━━━━━━━━━━━━\u001b[0m \u001b[32m139.3/139.3 KB\u001b[0m \u001b[31m3.7 MB/s\u001b[0m eta \u001b[36m0:00:00\u001b[0m\n",
            "\u001b[2K     \u001b[90m━━━━━━━━━━━━━━━━━━━━━━━━━━━━━━━━━━━━━━━━\u001b[0m \u001b[32m57.4/57.4 MB\u001b[0m \u001b[31m9.0 MB/s\u001b[0m eta \u001b[36m0:00:00\u001b[0m\n",
            "\u001b[2K     \u001b[90m━━━━━━━━━━━━━━━━━━━━━━━━━━━━━━━━━━━━━━━━\u001b[0m \u001b[32m8.7/8.7 MB\u001b[0m \u001b[31m23.9 MB/s\u001b[0m eta \u001b[36m0:00:00\u001b[0m\n",
            "\u001b[2K     \u001b[90m━━━━━━━━━━━━━━━━━━━━━━━━━━━━━━━━━━━━━━━\u001b[0m \u001b[32m158.8/158.8 KB\u001b[0m \u001b[31m2.9 MB/s\u001b[0m eta \u001b[36m0:00:00\u001b[0m\n",
            "\u001b[2K     \u001b[90m━━━━━━━━━━━━━━━━━━━━━━━━━━━━━━━━━━━━━━━\u001b[0m \u001b[32m128.2/128.2 KB\u001b[0m \u001b[31m9.4 MB/s\u001b[0m eta \u001b[36m0:00:00\u001b[0m\n",
            "\u001b[2K     \u001b[90m━━━━━━━━━━━━━━━━━━━━━━━━━━━━━━━━━━━━━━━━\u001b[0m \u001b[32m1.0/1.0 MB\u001b[0m \u001b[31m15.5 MB/s\u001b[0m eta \u001b[36m0:00:00\u001b[0m\n",
            "\u001b[2K     \u001b[90m━━━━━━━━━━━━━━━━━━━━━━━━━━━━━━━━━━━━━━━━\u001b[0m \u001b[32m97.9/97.9 KB\u001b[0m \u001b[31m4.2 MB/s\u001b[0m eta \u001b[36m0:00:00\u001b[0m\n",
            "\u001b[?25h  Installing build dependencies ... \u001b[?25l\u001b[?25hdone\n",
            "  Getting requirements to build wheel ... \u001b[?25l\u001b[?25hdone\n",
            "  Preparing metadata (pyproject.toml) ... \u001b[?25l\u001b[?25hdone\n",
            "\u001b[2K     \u001b[90m━━━━━━━━━━━━━━━━━━━━━━━━━━━━━━━━━━━━━━━━\u001b[0m \u001b[32m57.1/57.1 KB\u001b[0m \u001b[31m4.6 MB/s\u001b[0m eta \u001b[36m0:00:00\u001b[0m\n",
            "\u001b[2K     \u001b[90m━━━━━━━━━━━━━━━━━━━━━━━━━━━━━━━━━━━━━━\u001b[0m \u001b[32m201.4/201.4 KB\u001b[0m \u001b[31m14.7 MB/s\u001b[0m eta \u001b[36m0:00:00\u001b[0m\n",
            "\u001b[2K     \u001b[90m━━━━━━━━━━━━━━━━━━━━━━━━━━━━━━━━━━━━━━━━\u001b[0m \u001b[32m3.0/3.0 MB\u001b[0m \u001b[31m62.1 MB/s\u001b[0m eta \u001b[36m0:00:00\u001b[0m\n",
            "\u001b[2K     \u001b[90m━━━━━━━━━━━━━━━━━━━━━━━━━━━━━━━━━━━━━━━\u001b[0m \u001b[32m114.2/114.2 KB\u001b[0m \u001b[31m8.4 MB/s\u001b[0m eta \u001b[36m0:00:00\u001b[0m\n",
            "\u001b[2K     \u001b[90m━━━━━━━━━━━━━━━━━━━━━━━━━━━━━━━━━━━━━━\u001b[0m \u001b[32m264.6/264.6 KB\u001b[0m \u001b[31m18.8 MB/s\u001b[0m eta \u001b[36m0:00:00\u001b[0m\n",
            "\u001b[2K     \u001b[90m━━━━━━━━━━━━━━━━━━━━━━━━━━━━━━━━━━━━━━━━\u001b[0m \u001b[32m58.4/58.4 KB\u001b[0m \u001b[31m4.4 MB/s\u001b[0m eta \u001b[36m0:00:00\u001b[0m\n",
            "\u001b[2K     \u001b[90m━━━━━━━━━━━━━━━━━━━━━━━━━━━━━━━━━━━━━━\u001b[0m \u001b[32m468.5/468.5 KB\u001b[0m \u001b[31m41.3 MB/s\u001b[0m eta \u001b[36m0:00:00\u001b[0m\n",
            "\u001b[?25h  Building wheel for gpustat (pyproject.toml) ... \u001b[?25l\u001b[?25hdone\n"
          ]
        }
      ],
      "source": [
        "!pip install -q flwr[simulation] torch torchvision"
      ]
    },
    {
      "cell_type": "markdown",
      "metadata": {
        "id": "RlTfujxWQuNh"
      },
      "source": [
        "Now that we have all dependencies installed, we can import everything we need for this tutorial:"
      ]
    },
    {
      "cell_type": "code",
      "execution_count": null,
      "metadata": {
        "id": "P3A57GByQuNi",
        "colab": {
          "base_uri": "https://localhost:8080/"
        },
        "outputId": "f662ef65-7329-4d1f-b2f7-8f634b2fd85e"
      },
      "outputs": [
        {
          "output_type": "stream",
          "name": "stdout",
          "text": [
            "Training on cpu using PyTorch 2.0.0+cu118 and Flower 1.3.0\n"
          ]
        }
      ],
      "source": [
        "from collections import OrderedDict\n",
        "from typing import Dict, List, Optional, Tuple\n",
        "\n",
        "import numpy as np\n",
        "import torch\n",
        "import torch.nn as nn\n",
        "import torch.nn.functional as F\n",
        "import torchvision.transforms as transforms\n",
        "from torch.utils.data import DataLoader, random_split\n",
        "from torchvision.datasets import CIFAR10\n",
        "\n",
        "import flwr as fl\n",
        "\n",
        "DEVICE = torch.device(\"cpu\")  # Try \"cuda\" to train on GPU\n",
        "print(\n",
        "    f\"Training on {DEVICE} using PyTorch {torch.__version__} and Flower {fl.__version__}\"\n",
        ")"
      ]
    },
    {
      "cell_type": "markdown",
      "metadata": {
        "id": "CpFL5tBcQuNj"
      },
      "source": [
        "It is possible to switch to a runtime that has GPU acceleration enabled (on Google Colab: `Runtime > Change runtime type > Hardware acclerator: GPU > Save`). Note, however, that Google Colab is not always able to offer GPU acceleration. If you see an error related to GPU availability in one of the following sections, consider switching back to CPU-based execution by setting `DEVICE = torch.device(\"cpu\")`. If the runtime has GPU acceleration enabled, you should see the output `Training on cuda`, otherwise it'll say `Training on cpu`."
      ]
    },
    {
      "cell_type": "markdown",
      "metadata": {
        "id": "_6UL71FjQuNk"
      },
      "source": [
        "### Data loading\n",
        "\n",
        "Let's now load the CIFAR-10 training and test set, partition them into ten smaller datasets (each split into training and validation set), and wrap everything in their own `DataLoader`. We introduce a new parameter `num_clients` which allows us to call `load_datasets` with different numbers of clients."
      ]
    },
    {
      "cell_type": "code",
      "execution_count": null,
      "metadata": {
        "id": "84v18kP_QuNk",
        "colab": {
          "base_uri": "https://localhost:8080/"
        },
        "outputId": "69029734-f7bc-4f57-c4e6-fc2055ad9870"
      },
      "outputs": [
        {
          "output_type": "stream",
          "name": "stdout",
          "text": [
            "Downloading https://www.cs.toronto.edu/~kriz/cifar-10-python.tar.gz to ./dataset/cifar-10-python.tar.gz\n"
          ]
        },
        {
          "output_type": "stream",
          "name": "stderr",
          "text": [
            "100%|██████████| 170498071/170498071 [00:03<00:00, 48709162.30it/s]\n"
          ]
        },
        {
          "output_type": "stream",
          "name": "stdout",
          "text": [
            "Extracting ./dataset/cifar-10-python.tar.gz to ./dataset\n",
            "Files already downloaded and verified\n"
          ]
        }
      ],
      "source": [
        "NUM_CLIENTS = 10\n",
        "\n",
        "\n",
        "def load_datasets(num_clients: int):\n",
        "    # Download and transform CIFAR-10 (train and test)\n",
        "    transform = transforms.Compose(\n",
        "        [transforms.ToTensor(), transforms.Normalize((0.5, 0.5, 0.5), (0.5, 0.5, 0.5))]\n",
        "    )\n",
        "    trainset = CIFAR10(\"./dataset\", train=True, download=True, transform=transform)\n",
        "    testset = CIFAR10(\"./dataset\", train=False, download=True, transform=transform)\n",
        "\n",
        "    # Split training set into `num_clients` partitions to simulate different local datasets\n",
        "    partition_size = len(trainset) // num_clients\n",
        "    lengths = [partition_size] * num_clients\n",
        "    datasets = random_split(trainset, lengths, torch.Generator().manual_seed(42))\n",
        "\n",
        "    # Split each partition into train/val and create DataLoader\n",
        "    trainloaders = []\n",
        "    valloaders = []\n",
        "    for ds in datasets:\n",
        "        len_val = len(ds) // 10  # 10 % validation set\n",
        "        len_train = len(ds) - len_val\n",
        "        lengths = [len_train, len_val]\n",
        "        ds_train, ds_val = random_split(ds, lengths, torch.Generator().manual_seed(42))\n",
        "        trainloaders.append(DataLoader(ds_train, batch_size=32, shuffle=True))\n",
        "        valloaders.append(DataLoader(ds_val, batch_size=32))\n",
        "    testloader = DataLoader(testset, batch_size=32)\n",
        "    return trainloaders, valloaders, testloader\n",
        "\n",
        "\n",
        "trainloaders, valloaders, testloader = load_datasets(NUM_CLIENTS)"
      ]
    },
    {
      "cell_type": "markdown",
      "metadata": {
        "id": "R-gN4-LDQuNl"
      },
      "source": [
        "### Model training/evaluation\n",
        "\n",
        "Let's continue with the usual model definition (including `set_parameters` and `get_parameters`), training and test functions:"
      ]
    },
    {
      "cell_type": "code",
      "execution_count": null,
      "metadata": {
        "id": "8ntM_7NNQuNm"
      },
      "outputs": [],
      "source": [
        "class Net(nn.Module):\n",
        "    def __init__(self) -> None:\n",
        "        super(Net, self).__init__()\n",
        "        self.conv1 = nn.Conv2d(3, 6, 5)\n",
        "        self.pool = nn.MaxPool2d(2, 2)\n",
        "        self.conv2 = nn.Conv2d(6, 16, 5)\n",
        "        self.fc1 = nn.Linear(16 * 5 * 5, 120)\n",
        "        self.fc2 = nn.Linear(120, 84)\n",
        "        self.fc3 = nn.Linear(84, 10)\n",
        "\n",
        "    def forward(self, x: torch.Tensor) -> torch.Tensor:\n",
        "        x = self.pool(F.relu(self.conv1(x)))\n",
        "        x = self.pool(F.relu(self.conv2(x)))\n",
        "        x = x.view(-1, 16 * 5 * 5)\n",
        "        x = F.relu(self.fc1(x))\n",
        "        x = F.relu(self.fc2(x))\n",
        "        x = self.fc3(x)\n",
        "        return x\n",
        "\n",
        "\n",
        "def get_parameters(net) -> List[np.ndarray]:\n",
        "    return [val.cpu().numpy() for _, val in net.state_dict().items()]\n",
        "\n",
        "\n",
        "def set_parameters(net, parameters: List[np.ndarray]):\n",
        "    params_dict = zip(net.state_dict().keys(), parameters)\n",
        "    state_dict = OrderedDict({k: torch.Tensor(v) for k, v in params_dict})\n",
        "    net.load_state_dict(state_dict, strict=True)\n",
        "\n",
        "\n",
        "def train(net, trainloader, epochs: int):\n",
        "    \"\"\"Train the network on the training set.\"\"\"\n",
        "    criterion = torch.nn.CrossEntropyLoss()\n",
        "    optimizer = torch.optim.Adam(net.parameters())\n",
        "    net.train()\n",
        "    for epoch in range(epochs):\n",
        "        correct, total, epoch_loss = 0, 0, 0.0\n",
        "        for images, labels in trainloader:\n",
        "            images, labels = images.to(DEVICE), labels.to(DEVICE)\n",
        "            optimizer.zero_grad()\n",
        "            outputs = net(images)\n",
        "            loss = criterion(net(images), labels)\n",
        "            loss.backward()\n",
        "            optimizer.step()\n",
        "            # Metrics\n",
        "            epoch_loss += loss\n",
        "            total += labels.size(0)\n",
        "            correct += (torch.max(outputs.data, 1)[1] == labels).sum().item()\n",
        "        epoch_loss /= len(trainloader.dataset)\n",
        "        epoch_acc = correct / total\n",
        "        print(f\"Epoch {epoch+1}: train loss {epoch_loss}, accuracy {epoch_acc}\")\n",
        "\n",
        "\n",
        "def test(net, testloader):\n",
        "    \"\"\"Evaluate the network on the entire test set.\"\"\"\n",
        "    criterion = torch.nn.CrossEntropyLoss()\n",
        "    correct, total, loss = 0, 0, 0.0\n",
        "    net.eval()\n",
        "    with torch.no_grad():\n",
        "        for images, labels in testloader:\n",
        "            images, labels = images.to(DEVICE), labels.to(DEVICE)\n",
        "            outputs = net(images)\n",
        "            loss += criterion(outputs, labels).item()\n",
        "            _, predicted = torch.max(outputs.data, 1)\n",
        "            total += labels.size(0)\n",
        "            correct += (predicted == labels).sum().item()\n",
        "    loss /= len(testloader.dataset)\n",
        "    accuracy = correct / total\n",
        "    return loss, accuracy"
      ]
    },
    {
      "cell_type": "markdown",
      "metadata": {
        "id": "GnAw1iU9QuNq"
      },
      "source": [
        "### Flower client\n",
        "\n",
        "To implement the Flower client, we (again) create a subclass of `flwr.client.NumPyClient` and implement the three methods `get_parameters`, `fit`, and `evaluate`. Here, we also pass the `cid` to the client and use it log additional details:"
      ]
    },
    {
      "cell_type": "code",
      "execution_count": null,
      "metadata": {
        "id": "WvzeB98DQuNr"
      },
      "outputs": [],
      "source": [
        "class FlowerClient(fl.client.NumPyClient):\n",
        "    def __init__(self, cid, net, trainloader, valloader):\n",
        "        self.cid = cid\n",
        "        self.net = net\n",
        "        self.trainloader = trainloader\n",
        "        self.valloader = valloader\n",
        "\n",
        "    def get_parameters(self, config):\n",
        "        print(f\"[Client {self.cid}] get_parameters\")\n",
        "        return get_parameters(self.net)\n",
        "\n",
        "    def fit(self, parameters, config):\n",
        "        print(f\"[Client {self.cid}] fit, config: {config}\")\n",
        "        set_parameters(self.net, parameters)\n",
        "        train(self.net, self.trainloader, epochs=1)\n",
        "        return get_parameters(self.net), len(self.trainloader), {}\n",
        "\n",
        "    def evaluate(self, parameters, config):\n",
        "        print(f\"[Client {self.cid}] evaluate, config: {config}\")\n",
        "        set_parameters(self.net, parameters)\n",
        "        loss, accuracy = test(self.net, self.valloader)\n",
        "        return float(loss), len(self.valloader), {\"accuracy\": float(accuracy)}\n",
        "\n",
        "\n",
        "def client_fn(cid) -> FlowerClient:\n",
        "    net = Net().to(DEVICE)\n",
        "    trainloader = trainloaders[int(cid)]\n",
        "    valloader = valloaders[int(cid)]\n",
        "    return FlowerClient(cid, net, trainloader, valloader)"
      ]
    },
    {
      "cell_type": "markdown",
      "metadata": {
        "id": "2TsJ12hlQuNr"
      },
      "source": [
        "## Strategy customization\n",
        "\n",
        "So far, everything should look familiar if you've worked through the introductory notebook. With that, we're ready to introduce a number of new features. "
      ]
    },
    {
      "cell_type": "markdown",
      "metadata": {
        "id": "hyX2eoKuQuNs"
      },
      "source": [
        "### Server-side parameter **initialization**\n",
        "\n",
        "Flower, by default, initializes the global model by asking one random client for the initial parameters. In many cases, we want more control over parameter initialization though. Flower therefore allows you to directly pass the initial parameters to the Strategy:"
      ]
    },
    {
      "cell_type": "code",
      "execution_count": null,
      "metadata": {
        "id": "mlYR1WGyQuNs",
        "colab": {
          "base_uri": "https://localhost:8080/"
        },
        "outputId": "6bb5d4f5-3e35-4cf3-e481-d630cf927385"
      },
      "outputs": [
        {
          "output_type": "stream",
          "name": "stderr",
          "text": [
            "INFO flwr 2023-04-08 00:41:19,760 | app.py:145 | Starting Flower simulation, config: ServerConfig(num_rounds=3, round_timeout=None)\n",
            "INFO:flwr:Starting Flower simulation, config: ServerConfig(num_rounds=3, round_timeout=None)\n",
            "2023-04-08 00:41:21,157\tINFO worker.py:1529 -- Started a local Ray instance. View the dashboard at \u001b[1m\u001b[32m127.0.0.1:8265 \u001b[39m\u001b[22m\n",
            "INFO flwr 2023-04-08 00:41:22,579 | app.py:179 | Flower VCE: Ray initialized with resources: {'memory': 7925617460.0, 'object_store_memory': 3962808729.0, 'CPU': 2.0, 'GPU': 1.0, 'node:172.28.0.12': 1.0}\n",
            "INFO:flwr:Flower VCE: Ray initialized with resources: {'memory': 7925617460.0, 'object_store_memory': 3962808729.0, 'CPU': 2.0, 'GPU': 1.0, 'node:172.28.0.12': 1.0}\n",
            "INFO flwr 2023-04-08 00:41:22,588 | server.py:86 | Initializing global parameters\n",
            "INFO:flwr:Initializing global parameters\n",
            "INFO flwr 2023-04-08 00:41:22,595 | server.py:266 | Using initial parameters provided by strategy\n",
            "INFO:flwr:Using initial parameters provided by strategy\n",
            "INFO flwr 2023-04-08 00:41:22,600 | server.py:88 | Evaluating initial parameters\n",
            "INFO:flwr:Evaluating initial parameters\n",
            "INFO flwr 2023-04-08 00:41:22,605 | server.py:101 | FL starting\n",
            "INFO:flwr:FL starting\n",
            "DEBUG flwr 2023-04-08 00:41:22,611 | server.py:215 | fit_round 1: strategy sampled 3 clients (out of 10)\n",
            "DEBUG:flwr:fit_round 1: strategy sampled 3 clients (out of 10)\n"
          ]
        },
        {
          "output_type": "stream",
          "name": "stdout",
          "text": [
            "\u001b[2m\u001b[36m(launch_and_fit pid=1099)\u001b[0m [Client 2] fit, config: {}\n",
            "\u001b[2m\u001b[36m(launch_and_fit pid=1098)\u001b[0m [Client 6] fit, config: {}\n",
            "\u001b[2m\u001b[36m(launch_and_fit pid=1098)\u001b[0m Epoch 1: train loss 0.06596717238426208, accuracy 0.21288888888888888\n",
            "\u001b[2m\u001b[36m(launch_and_fit pid=1099)\u001b[0m Epoch 1: train loss 0.06593053787946701, accuracy 0.222\n",
            "\u001b[2m\u001b[36m(launch_and_fit pid=1098)\u001b[0m [Client 0] fit, config: {}\n"
          ]
        },
        {
          "output_type": "stream",
          "name": "stderr",
          "text": [
            "DEBUG flwr 2023-04-08 00:41:37,273 | server.py:229 | fit_round 1 received 3 results and 0 failures\n",
            "DEBUG:flwr:fit_round 1 received 3 results and 0 failures\n",
            "WARNING flwr 2023-04-08 00:41:37,287 | fedavg.py:242 | No fit_metrics_aggregation_fn provided\n",
            "WARNING:flwr:No fit_metrics_aggregation_fn provided\n",
            "DEBUG flwr 2023-04-08 00:41:37,289 | server.py:165 | evaluate_round 1: strategy sampled 3 clients (out of 10)\n",
            "DEBUG:flwr:evaluate_round 1: strategy sampled 3 clients (out of 10)\n"
          ]
        },
        {
          "output_type": "stream",
          "name": "stdout",
          "text": [
            "\u001b[2m\u001b[36m(launch_and_fit pid=1098)\u001b[0m Epoch 1: train loss 0.06495313346385956, accuracy 0.23355555555555554\n",
            "\u001b[2m\u001b[36m(launch_and_evaluate pid=1099)\u001b[0m [Client 6] evaluate, config: {}\n",
            "\u001b[2m\u001b[36m(launch_and_evaluate pid=1098)\u001b[0m [Client 5] evaluate, config: {}\n"
          ]
        },
        {
          "output_type": "stream",
          "name": "stderr",
          "text": [
            "DEBUG flwr 2023-04-08 00:41:43,273 | server.py:179 | evaluate_round 1 received 3 results and 0 failures\n",
            "DEBUG:flwr:evaluate_round 1 received 3 results and 0 failures\n",
            "WARNING flwr 2023-04-08 00:41:43,280 | fedavg.py:273 | No evaluate_metrics_aggregation_fn provided\n",
            "WARNING:flwr:No evaluate_metrics_aggregation_fn provided\n",
            "DEBUG flwr 2023-04-08 00:41:43,282 | server.py:215 | fit_round 2: strategy sampled 3 clients (out of 10)\n",
            "DEBUG:flwr:fit_round 2: strategy sampled 3 clients (out of 10)\n"
          ]
        },
        {
          "output_type": "stream",
          "name": "stdout",
          "text": [
            "\u001b[2m\u001b[36m(launch_and_evaluate pid=1098)\u001b[0m [Client 0] evaluate, config: {}\n",
            "\u001b[2m\u001b[36m(launch_and_fit pid=1098)\u001b[0m [Client 8] fit, config: {}\n",
            "\u001b[2m\u001b[36m(launch_and_fit pid=1099)\u001b[0m [Client 5] fit, config: {}\n",
            "\u001b[2m\u001b[36m(launch_and_fit pid=1099)\u001b[0m Epoch 1: train loss 0.05897568166255951, accuracy 0.31266666666666665\n",
            "\u001b[2m\u001b[36m(launch_and_fit pid=1098)\u001b[0m Epoch 1: train loss 0.05811526998877525, accuracy 0.3148888888888889\n",
            "\u001b[2m\u001b[36m(launch_and_fit pid=1099)\u001b[0m [Client 7] fit, config: {}\n"
          ]
        },
        {
          "output_type": "stream",
          "name": "stderr",
          "text": [
            "DEBUG flwr 2023-04-08 00:41:53,019 | server.py:229 | fit_round 2 received 3 results and 0 failures\n",
            "DEBUG:flwr:fit_round 2 received 3 results and 0 failures\n",
            "DEBUG flwr 2023-04-08 00:41:53,035 | server.py:165 | evaluate_round 2: strategy sampled 3 clients (out of 10)\n",
            "DEBUG:flwr:evaluate_round 2: strategy sampled 3 clients (out of 10)\n"
          ]
        },
        {
          "output_type": "stream",
          "name": "stdout",
          "text": [
            "\u001b[2m\u001b[36m(launch_and_fit pid=1099)\u001b[0m Epoch 1: train loss 0.05788091942667961, accuracy 0.31222222222222223\n",
            "\u001b[2m\u001b[36m(launch_and_evaluate pid=1099)\u001b[0m [Client 8] evaluate, config: {}\n",
            "\u001b[2m\u001b[36m(launch_and_evaluate pid=1098)\u001b[0m [Client 5] evaluate, config: {}\n"
          ]
        },
        {
          "output_type": "stream",
          "name": "stderr",
          "text": [
            "DEBUG flwr 2023-04-08 00:41:58,971 | server.py:179 | evaluate_round 2 received 3 results and 0 failures\n",
            "DEBUG:flwr:evaluate_round 2 received 3 results and 0 failures\n",
            "DEBUG flwr 2023-04-08 00:41:58,978 | server.py:215 | fit_round 3: strategy sampled 3 clients (out of 10)\n",
            "DEBUG:flwr:fit_round 3: strategy sampled 3 clients (out of 10)\n"
          ]
        },
        {
          "output_type": "stream",
          "name": "stdout",
          "text": [
            "\u001b[2m\u001b[36m(launch_and_evaluate pid=1099)\u001b[0m [Client 1] evaluate, config: {}\n",
            "\u001b[2m\u001b[36m(launch_and_fit pid=1099)\u001b[0m [Client 9] fit, config: {}\n",
            "\u001b[2m\u001b[36m(launch_and_fit pid=1098)\u001b[0m [Client 7] fit, config: {}\n",
            "\u001b[2m\u001b[36m(launch_and_fit pid=1099)\u001b[0m Epoch 1: train loss 0.053277671337127686, accuracy 0.3848888888888889\n",
            "\u001b[2m\u001b[36m(launch_and_fit pid=1098)\u001b[0m Epoch 1: train loss 0.05230129510164261, accuracy 0.3933333333333333\n",
            "\u001b[2m\u001b[36m(launch_and_fit pid=1099)\u001b[0m [Client 2] fit, config: {}\n"
          ]
        },
        {
          "output_type": "stream",
          "name": "stderr",
          "text": [
            "DEBUG flwr 2023-04-08 00:42:09,431 | server.py:229 | fit_round 3 received 3 results and 0 failures\n",
            "DEBUG:flwr:fit_round 3 received 3 results and 0 failures\n",
            "DEBUG flwr 2023-04-08 00:42:09,456 | server.py:165 | evaluate_round 3: strategy sampled 3 clients (out of 10)\n",
            "DEBUG:flwr:evaluate_round 3: strategy sampled 3 clients (out of 10)\n"
          ]
        },
        {
          "output_type": "stream",
          "name": "stdout",
          "text": [
            "\u001b[2m\u001b[36m(launch_and_fit pid=1099)\u001b[0m Epoch 1: train loss 0.05417599156498909, accuracy 0.3671111111111111\n",
            "\u001b[2m\u001b[36m(launch_and_evaluate pid=1099)\u001b[0m [Client 4] evaluate, config: {}\n",
            "\u001b[2m\u001b[36m(launch_and_evaluate pid=1098)\u001b[0m [Client 8] evaluate, config: {}\n"
          ]
        },
        {
          "output_type": "stream",
          "name": "stderr",
          "text": [
            "DEBUG flwr 2023-04-08 00:42:14,977 | server.py:179 | evaluate_round 3 received 3 results and 0 failures\n",
            "DEBUG:flwr:evaluate_round 3 received 3 results and 0 failures\n",
            "INFO flwr 2023-04-08 00:42:14,983 | server.py:144 | FL finished in 52.371506576\n",
            "INFO:flwr:FL finished in 52.371506576\n",
            "INFO flwr 2023-04-08 00:42:14,988 | app.py:202 | app_fit: losses_distributed [(1, 0.0656187702814738), (2, 0.05534022736549377), (3, 0.05250716082255045)]\n",
            "INFO:flwr:app_fit: losses_distributed [(1, 0.0656187702814738), (2, 0.05534022736549377), (3, 0.05250716082255045)]\n"
          ]
        },
        {
          "output_type": "stream",
          "name": "stdout",
          "text": [
            "\u001b[2m\u001b[36m(launch_and_evaluate pid=1098)\u001b[0m [Client 2] evaluate, config: {}\n"
          ]
        },
        {
          "output_type": "stream",
          "name": "stderr",
          "text": [
            "INFO flwr 2023-04-08 00:42:14,992 | app.py:203 | app_fit: metrics_distributed {}\n",
            "INFO:flwr:app_fit: metrics_distributed {}\n",
            "INFO flwr 2023-04-08 00:42:14,995 | app.py:204 | app_fit: losses_centralized []\n",
            "INFO:flwr:app_fit: losses_centralized []\n",
            "INFO flwr 2023-04-08 00:42:14,997 | app.py:205 | app_fit: metrics_centralized {}\n",
            "INFO:flwr:app_fit: metrics_centralized {}\n"
          ]
        },
        {
          "output_type": "execute_result",
          "data": {
            "text/plain": [
              "History (loss, distributed):\n",
              "\tround 1: 0.0656187702814738\n",
              "\tround 2: 0.05534022736549377\n",
              "\tround 3: 0.05250716082255045"
            ]
          },
          "metadata": {},
          "execution_count": 6
        }
      ],
      "source": [
        "# Create an instance of the model and get the parameters\n",
        "params = get_parameters(Net())\n",
        "\n",
        "# Pass parameters to the Strategy for server-side parameter initialization\n",
        "strategy = fl.server.strategy.FedAvg(\n",
        "    fraction_fit=0.3,\n",
        "    fraction_evaluate=0.3,\n",
        "    min_fit_clients=3,\n",
        "    min_evaluate_clients=3,\n",
        "    min_available_clients=NUM_CLIENTS,\n",
        "    initial_parameters=fl.common.ndarrays_to_parameters(params),\n",
        ")\n",
        "\n",
        "# Specify client resources if you need GPU (defaults to 1 CPU and 0 GPU)\n",
        "client_resources = None\n",
        "if DEVICE.type == \"cuda\":\n",
        "    client_resources = {\"num_gpus\": 1}\n",
        "\n",
        "# Start simulation\n",
        "fl.simulation.start_simulation(\n",
        "    client_fn=client_fn,\n",
        "    num_clients=NUM_CLIENTS,\n",
        "    config=fl.server.ServerConfig(num_rounds=3),  # Just three rounds\n",
        "    strategy=strategy,\n",
        "    client_resources=client_resources,\n",
        ")"
      ]
    },
    {
      "cell_type": "markdown",
      "metadata": {
        "id": "sZ9wUD8_QuNu"
      },
      "source": [
        "Passing `initial_parameters` to the `FedAvg` strategy prevents Flower from asking one of the clients for the initial parameters. If we look closely, we can see that the logs do not show any calls to the `FlowerClient.get_parameters` method."
      ]
    },
    {
      "cell_type": "markdown",
      "metadata": {
        "id": "UVdy-eGcQuNv"
      },
      "source": [
        "### Starting with a customized strategy\n",
        "\n",
        "We've seen the function `start_simulation` before. It accepts a number of arguments, amongst them the `client_fn` used to create `FlowerClient` instances, the number of clients to simulate `num_clients`, the number of rounds `num_rounds`, and the strategy.\n",
        "\n",
        "The strategy encapsulates the federated learning approach/algorithm, for example, `FedAvg` or `FedAdagrad`. Let's try to use a different strategy this time:"
      ]
    },
    {
      "cell_type": "code",
      "execution_count": null,
      "metadata": {
        "id": "OIvNJsVDQuNv",
        "colab": {
          "base_uri": "https://localhost:8080/"
        },
        "outputId": "13c99cc8-c6a8-4655-d4ae-ffbfc15c255a"
      },
      "outputs": [
        {
          "output_type": "stream",
          "name": "stderr",
          "text": [
            "INFO flwr 2023-04-08 00:42:20,611 | app.py:145 | Starting Flower simulation, config: ServerConfig(num_rounds=3, round_timeout=None)\n",
            "INFO:flwr:Starting Flower simulation, config: ServerConfig(num_rounds=3, round_timeout=None)\n",
            "2023-04-08 00:42:25,479\tINFO worker.py:1529 -- Started a local Ray instance. View the dashboard at \u001b[1m\u001b[32m127.0.0.1:8265 \u001b[39m\u001b[22m\n",
            "INFO flwr 2023-04-08 00:42:27,611 | app.py:179 | Flower VCE: Ray initialized with resources: {'CPU': 2.0, 'memory': 7914221568.0, 'node:172.28.0.12': 1.0, 'GPU': 1.0, 'object_store_memory': 3957110784.0}\n",
            "INFO:flwr:Flower VCE: Ray initialized with resources: {'CPU': 2.0, 'memory': 7914221568.0, 'node:172.28.0.12': 1.0, 'GPU': 1.0, 'object_store_memory': 3957110784.0}\n",
            "INFO flwr 2023-04-08 00:42:27,615 | server.py:86 | Initializing global parameters\n",
            "INFO:flwr:Initializing global parameters\n",
            "INFO flwr 2023-04-08 00:42:27,624 | server.py:266 | Using initial parameters provided by strategy\n",
            "INFO:flwr:Using initial parameters provided by strategy\n",
            "INFO flwr 2023-04-08 00:42:27,627 | server.py:88 | Evaluating initial parameters\n",
            "INFO:flwr:Evaluating initial parameters\n",
            "INFO flwr 2023-04-08 00:42:27,629 | server.py:101 | FL starting\n",
            "INFO:flwr:FL starting\n",
            "DEBUG flwr 2023-04-08 00:42:27,637 | server.py:215 | fit_round 1: strategy sampled 3 clients (out of 10)\n",
            "DEBUG:flwr:fit_round 1: strategy sampled 3 clients (out of 10)\n"
          ]
        },
        {
          "output_type": "stream",
          "name": "stdout",
          "text": [
            "\u001b[2m\u001b[36m(launch_and_fit pid=1696)\u001b[0m [Client 6] fit, config: {}\n",
            "\u001b[2m\u001b[36m(launch_and_fit pid=1697)\u001b[0m [Client 4] fit, config: {}\n",
            "\u001b[2m\u001b[36m(launch_and_fit pid=1696)\u001b[0m Epoch 1: train loss 0.066340871155262, accuracy 0.2117777777777778\n",
            "\u001b[2m\u001b[36m(launch_and_fit pid=1697)\u001b[0m Epoch 1: train loss 0.06558381766080856, accuracy 0.22133333333333333\n",
            "\u001b[2m\u001b[36m(launch_and_fit pid=1697)\u001b[0m [Client 5] fit, config: {}\n"
          ]
        },
        {
          "output_type": "stream",
          "name": "stderr",
          "text": [
            "DEBUG flwr 2023-04-08 00:42:41,486 | server.py:229 | fit_round 1 received 3 results and 0 failures\n",
            "DEBUG:flwr:fit_round 1 received 3 results and 0 failures\n",
            "WARNING flwr 2023-04-08 00:42:41,505 | fedavg.py:242 | No fit_metrics_aggregation_fn provided\n",
            "WARNING:flwr:No fit_metrics_aggregation_fn provided\n",
            "DEBUG flwr 2023-04-08 00:42:41,515 | server.py:165 | evaluate_round 1: strategy sampled 3 clients (out of 10)\n",
            "DEBUG:flwr:evaluate_round 1: strategy sampled 3 clients (out of 10)\n"
          ]
        },
        {
          "output_type": "stream",
          "name": "stdout",
          "text": [
            "\u001b[2m\u001b[36m(launch_and_fit pid=1697)\u001b[0m Epoch 1: train loss 0.06482434272766113, accuracy 0.2328888888888889\n",
            "\u001b[2m\u001b[36m(launch_and_evaluate pid=1696)\u001b[0m [Client 9] evaluate, config: {}\n",
            "\u001b[2m\u001b[36m(launch_and_evaluate pid=1697)\u001b[0m [Client 3] evaluate, config: {}\n"
          ]
        },
        {
          "output_type": "stream",
          "name": "stderr",
          "text": [
            "DEBUG flwr 2023-04-08 00:42:46,267 | server.py:179 | evaluate_round 1 received 3 results and 0 failures\n",
            "DEBUG:flwr:evaluate_round 1 received 3 results and 0 failures\n",
            "WARNING flwr 2023-04-08 00:42:46,269 | fedavg.py:273 | No evaluate_metrics_aggregation_fn provided\n",
            "WARNING:flwr:No evaluate_metrics_aggregation_fn provided\n",
            "DEBUG flwr 2023-04-08 00:42:46,276 | server.py:215 | fit_round 2: strategy sampled 3 clients (out of 10)\n",
            "DEBUG:flwr:fit_round 2: strategy sampled 3 clients (out of 10)\n"
          ]
        },
        {
          "output_type": "stream",
          "name": "stdout",
          "text": [
            "\u001b[2m\u001b[36m(launch_and_evaluate pid=1697)\u001b[0m [Client 2] evaluate, config: {}\n",
            "\u001b[2m\u001b[36m(launch_and_fit pid=1696)\u001b[0m [Client 8] fit, config: {}\n",
            "\u001b[2m\u001b[36m(launch_and_fit pid=1697)\u001b[0m [Client 1] fit, config: {}\n",
            "\u001b[2m\u001b[36m(launch_and_fit pid=1697)\u001b[0m Epoch 1: train loss 0.7139455080032349, accuracy 0.2713333333333333\n",
            "\u001b[2m\u001b[36m(launch_and_fit pid=1696)\u001b[0m Epoch 1: train loss 0.6959884166717529, accuracy 0.26711111111111113\n",
            "\u001b[2m\u001b[36m(launch_and_fit pid=1697)\u001b[0m [Client 5] fit, config: {}\n"
          ]
        },
        {
          "output_type": "stream",
          "name": "stderr",
          "text": [
            "DEBUG flwr 2023-04-08 00:42:57,264 | server.py:229 | fit_round 2 received 3 results and 0 failures\n",
            "DEBUG:flwr:fit_round 2 received 3 results and 0 failures\n",
            "DEBUG flwr 2023-04-08 00:42:57,295 | server.py:165 | evaluate_round 2: strategy sampled 3 clients (out of 10)\n",
            "DEBUG:flwr:evaluate_round 2: strategy sampled 3 clients (out of 10)\n"
          ]
        },
        {
          "output_type": "stream",
          "name": "stdout",
          "text": [
            "\u001b[2m\u001b[36m(launch_and_fit pid=1697)\u001b[0m Epoch 1: train loss 0.7150027751922607, accuracy 0.2611111111111111\n",
            "\u001b[2m\u001b[36m(launch_and_evaluate pid=1696)\u001b[0m [Client 3] evaluate, config: {}\n",
            "\u001b[2m\u001b[36m(launch_and_evaluate pid=1697)\u001b[0m [Client 7] evaluate, config: {}\n"
          ]
        },
        {
          "output_type": "stream",
          "name": "stderr",
          "text": [
            "DEBUG flwr 2023-04-08 00:43:01,819 | server.py:179 | evaluate_round 2 received 3 results and 0 failures\n",
            "DEBUG:flwr:evaluate_round 2 received 3 results and 0 failures\n",
            "DEBUG flwr 2023-04-08 00:43:01,822 | server.py:215 | fit_round 3: strategy sampled 3 clients (out of 10)\n",
            "DEBUG:flwr:fit_round 3: strategy sampled 3 clients (out of 10)\n"
          ]
        },
        {
          "output_type": "stream",
          "name": "stdout",
          "text": [
            "\u001b[2m\u001b[36m(launch_and_evaluate pid=1696)\u001b[0m [Client 6] evaluate, config: {}\n",
            "\u001b[2m\u001b[36m(launch_and_fit pid=1696)\u001b[0m [Client 5] fit, config: {}\n",
            "\u001b[2m\u001b[36m(launch_and_fit pid=1697)\u001b[0m [Client 4] fit, config: {}\n",
            "\u001b[2m\u001b[36m(launch_and_fit pid=1697)\u001b[0m Epoch 1: train loss 0.10035098344087601, accuracy 0.14\n",
            "\u001b[2m\u001b[36m(launch_and_fit pid=1696)\u001b[0m Epoch 1: train loss 0.09899826347827911, accuracy 0.13622222222222222\n",
            "\u001b[2m\u001b[36m(launch_and_fit pid=1697)\u001b[0m [Client 8] fit, config: {}\n"
          ]
        },
        {
          "output_type": "stream",
          "name": "stderr",
          "text": [
            "DEBUG flwr 2023-04-08 00:43:13,255 | server.py:229 | fit_round 3 received 3 results and 0 failures\n",
            "DEBUG:flwr:fit_round 3 received 3 results and 0 failures\n",
            "DEBUG flwr 2023-04-08 00:43:13,284 | server.py:165 | evaluate_round 3: strategy sampled 3 clients (out of 10)\n",
            "DEBUG:flwr:evaluate_round 3: strategy sampled 3 clients (out of 10)\n"
          ]
        },
        {
          "output_type": "stream",
          "name": "stdout",
          "text": [
            "\u001b[2m\u001b[36m(launch_and_fit pid=1697)\u001b[0m Epoch 1: train loss 0.09872926026582718, accuracy 0.15244444444444444\n",
            "\u001b[2m\u001b[36m(launch_and_evaluate pid=1696)\u001b[0m [Client 0] evaluate, config: {}\n",
            "\u001b[2m\u001b[36m(launch_and_evaluate pid=1697)\u001b[0m [Client 6] evaluate, config: {}\n"
          ]
        },
        {
          "output_type": "stream",
          "name": "stderr",
          "text": [
            "DEBUG flwr 2023-04-08 00:43:17,483 | server.py:179 | evaluate_round 3 received 3 results and 0 failures\n",
            "DEBUG:flwr:evaluate_round 3 received 3 results and 0 failures\n",
            "INFO flwr 2023-04-08 00:43:17,486 | server.py:144 | FL finished in 49.849861616\n",
            "INFO:flwr:FL finished in 49.849861616\n",
            "INFO flwr 2023-04-08 00:43:17,488 | app.py:202 | app_fit: losses_distributed [(1, 6.707209197998047), (2, 0.5413721510569255), (3, 0.08104761473337808)]\n",
            "INFO:flwr:app_fit: losses_distributed [(1, 6.707209197998047), (2, 0.5413721510569255), (3, 0.08104761473337808)]\n",
            "INFO flwr 2023-04-08 00:43:17,490 | app.py:203 | app_fit: metrics_distributed {}\n",
            "INFO:flwr:app_fit: metrics_distributed {}\n",
            "INFO flwr 2023-04-08 00:43:17,492 | app.py:204 | app_fit: losses_centralized []\n",
            "INFO:flwr:app_fit: losses_centralized []\n",
            "INFO flwr 2023-04-08 00:43:17,494 | app.py:205 | app_fit: metrics_centralized {}\n",
            "INFO:flwr:app_fit: metrics_centralized {}\n"
          ]
        },
        {
          "output_type": "stream",
          "name": "stdout",
          "text": [
            "\u001b[2m\u001b[36m(launch_and_evaluate pid=1697)\u001b[0m [Client 9] evaluate, config: {}\n"
          ]
        },
        {
          "output_type": "execute_result",
          "data": {
            "text/plain": [
              "History (loss, distributed):\n",
              "\tround 1: 6.707209197998047\n",
              "\tround 2: 0.5413721510569255\n",
              "\tround 3: 0.08104761473337808"
            ]
          },
          "metadata": {},
          "execution_count": 7
        }
      ],
      "source": [
        "# Create FedAdam strategy\n",
        "strategy = fl.server.strategy.FedAdagrad(\n",
        "    fraction_fit=0.3,\n",
        "    fraction_evaluate=0.3,\n",
        "    min_fit_clients=3,\n",
        "    min_evaluate_clients=3,\n",
        "    min_available_clients=NUM_CLIENTS,\n",
        "    initial_parameters=fl.common.ndarrays_to_parameters(get_parameters(Net())),\n",
        ")\n",
        "\n",
        "# Start simulation\n",
        "fl.simulation.start_simulation(\n",
        "    client_fn=client_fn,\n",
        "    num_clients=NUM_CLIENTS,\n",
        "    config=fl.server.ServerConfig(num_rounds=3),  # Just three rounds\n",
        "    strategy=strategy,\n",
        "    client_resources=client_resources,\n",
        ")"
      ]
    },
    {
      "cell_type": "markdown",
      "metadata": {
        "id": "xpEd9a2QQuNw"
      },
      "source": [
        "## Server-side parameter **evaluation**\n",
        "\n",
        "Flower can evaluate the aggregated model on the server-side or on the client-side. Client-side and server-side evaluation are similar in some ways, but different in others.\n",
        "\n",
        "**Centralized Evaluation** (or *server-side evaluation*) is conceptually simple: it works the same way that evaluation in centralized machine learning does. If there is a server-side dataset that can be used for evaluation purposes, then that's great. We can evaluate the newly aggregated model after each round of training without having to send the model to clients. We're also fortunate in the sense that our entire evaluation dataset is available at all times.\n",
        "\n",
        "**Federated Evaluation** (or *client-side evaluation*) is more complex, but also more powerful: it doesn't require a centralized dataset and allows us to evaluate models over a larger set of data, which often yields more realistic evaluation results. In fact, many scenarios require us to use **Federated Evaluation** if we want to get representative evaluation results at all. But this power comes at a cost: once we start to evaluate on the client side, we should be aware that our evaluation dataset can change over consecutive rounds of learning if those clients are not always available. Moreover, the dataset held by each client can also change over consecutive rounds. This can lead to evaluation results that are not stable, so even if we would not change the model, we'd see our evaluation results fluctuate over consecutive rounds.\n",
        "\n",
        "We've seen how federated evaluation works on the client side (i.e., by implementing the `evaluate` method in `FlowerClient`). Now let's see how we can evaluate aggregated model parameters on the server-side:"
      ]
    },
    {
      "cell_type": "code",
      "execution_count": null,
      "metadata": {
        "id": "EAe7LegSQuNw"
      },
      "outputs": [],
      "source": [
        "# The `evaluate` function will be by Flower called after every round\n",
        "def evaluate(\n",
        "    server_round: int,\n",
        "    parameters: fl.common.NDArrays,\n",
        "    config: Dict[str, fl.common.Scalar],\n",
        ") -> Optional[Tuple[float, Dict[str, fl.common.Scalar]]]:\n",
        "    net = Net().to(DEVICE)\n",
        "    valloader = valloaders[0]\n",
        "    set_parameters(net, parameters)  # Update model with the latest parameters\n",
        "    loss, accuracy = test(net, valloader)\n",
        "    print(f\"Server-side evaluation loss {loss} / accuracy {accuracy}\")\n",
        "    return loss, {\"accuracy\": accuracy}"
      ]
    },
    {
      "cell_type": "code",
      "execution_count": null,
      "metadata": {
        "id": "RMt0aeTDQuNx",
        "colab": {
          "base_uri": "https://localhost:8080/"
        },
        "outputId": "1a3fd50e-1088-4313-d8df-da705d4d8b54"
      },
      "outputs": [
        {
          "output_type": "stream",
          "name": "stderr",
          "text": [
            "INFO flwr 2023-04-08 00:43:41,419 | app.py:145 | Starting Flower simulation, config: ServerConfig(num_rounds=3, round_timeout=None)\n",
            "INFO:flwr:Starting Flower simulation, config: ServerConfig(num_rounds=3, round_timeout=None)\n",
            "2023-04-08 00:43:47,028\tINFO worker.py:1529 -- Started a local Ray instance. View the dashboard at \u001b[1m\u001b[32m127.0.0.1:8265 \u001b[39m\u001b[22m\n",
            "INFO flwr 2023-04-08 00:43:48,073 | app.py:179 | Flower VCE: Ray initialized with resources: {'object_store_memory': 3956847820.0, 'node:172.28.0.12': 1.0, 'GPU': 1.0, 'memory': 7913695643.0, 'CPU': 2.0}\n",
            "INFO:flwr:Flower VCE: Ray initialized with resources: {'object_store_memory': 3956847820.0, 'node:172.28.0.12': 1.0, 'GPU': 1.0, 'memory': 7913695643.0, 'CPU': 2.0}\n",
            "INFO flwr 2023-04-08 00:43:48,084 | server.py:86 | Initializing global parameters\n",
            "INFO:flwr:Initializing global parameters\n",
            "INFO flwr 2023-04-08 00:43:48,089 | server.py:266 | Using initial parameters provided by strategy\n",
            "INFO:flwr:Using initial parameters provided by strategy\n",
            "INFO flwr 2023-04-08 00:43:48,092 | server.py:88 | Evaluating initial parameters\n",
            "INFO:flwr:Evaluating initial parameters\n",
            "INFO flwr 2023-04-08 00:43:48,422 | server.py:91 | initial parameters (loss, other metrics): 0.07364050245285034, {'accuracy': 0.092}\n",
            "INFO:flwr:initial parameters (loss, other metrics): 0.07364050245285034, {'accuracy': 0.092}\n",
            "INFO flwr 2023-04-08 00:43:48,428 | server.py:101 | FL starting\n",
            "INFO:flwr:FL starting\n",
            "DEBUG flwr 2023-04-08 00:43:48,438 | server.py:215 | fit_round 1: strategy sampled 3 clients (out of 10)\n",
            "DEBUG:flwr:fit_round 1: strategy sampled 3 clients (out of 10)\n"
          ]
        },
        {
          "output_type": "stream",
          "name": "stdout",
          "text": [
            "Server-side evaluation loss 0.07364050245285034 / accuracy 0.092\n",
            "\u001b[2m\u001b[36m(launch_and_fit pid=2381)\u001b[0m [Client 2] fit, config: {}\n",
            "\u001b[2m\u001b[36m(launch_and_fit pid=2380)\u001b[0m [Client 5] fit, config: {}\n",
            "\u001b[2m\u001b[36m(launch_and_fit pid=2381)\u001b[0m Epoch 1: train loss 0.06500381976366043, accuracy 0.22022222222222224\n",
            "\u001b[2m\u001b[36m(launch_and_fit pid=2381)\u001b[0m [Client 1] fit, config: {}\n",
            "\u001b[2m\u001b[36m(launch_and_fit pid=2380)\u001b[0m Epoch 1: train loss 0.06474390625953674, accuracy 0.2242222222222222\n"
          ]
        },
        {
          "output_type": "stream",
          "name": "stderr",
          "text": [
            "DEBUG flwr 2023-04-08 00:44:03,419 | server.py:229 | fit_round 1 received 3 results and 0 failures\n",
            "DEBUG:flwr:fit_round 1 received 3 results and 0 failures\n",
            "WARNING flwr 2023-04-08 00:44:03,431 | fedavg.py:242 | No fit_metrics_aggregation_fn provided\n",
            "WARNING:flwr:No fit_metrics_aggregation_fn provided\n"
          ]
        },
        {
          "output_type": "stream",
          "name": "stdout",
          "text": [
            "\u001b[2m\u001b[36m(launch_and_fit pid=2381)\u001b[0m Epoch 1: train loss 0.06434320658445358, accuracy 0.23955555555555555\n"
          ]
        },
        {
          "output_type": "stream",
          "name": "stderr",
          "text": [
            "INFO flwr 2023-04-08 00:44:03,620 | server.py:116 | fit progress: (1, 0.06291225051879883, {'accuracy': 0.282}, 15.182561483000029)\n",
            "INFO:flwr:fit progress: (1, 0.06291225051879883, {'accuracy': 0.282}, 15.182561483000029)\n",
            "DEBUG flwr 2023-04-08 00:44:03,626 | server.py:165 | evaluate_round 1: strategy sampled 3 clients (out of 10)\n",
            "DEBUG:flwr:evaluate_round 1: strategy sampled 3 clients (out of 10)\n"
          ]
        },
        {
          "output_type": "stream",
          "name": "stdout",
          "text": [
            "Server-side evaluation loss 0.06291225051879883 / accuracy 0.282\n",
            "\u001b[2m\u001b[36m(launch_and_evaluate pid=2380)\u001b[0m [Client 0] evaluate, config: {}\n",
            "\u001b[2m\u001b[36m(launch_and_evaluate pid=2381)\u001b[0m [Client 2] evaluate, config: {}\n"
          ]
        },
        {
          "output_type": "stream",
          "name": "stderr",
          "text": [
            "DEBUG flwr 2023-04-08 00:44:08,564 | server.py:179 | evaluate_round 1 received 3 results and 0 failures\n",
            "DEBUG:flwr:evaluate_round 1 received 3 results and 0 failures\n",
            "WARNING flwr 2023-04-08 00:44:08,567 | fedavg.py:273 | No evaluate_metrics_aggregation_fn provided\n",
            "WARNING:flwr:No evaluate_metrics_aggregation_fn provided\n",
            "DEBUG flwr 2023-04-08 00:44:08,569 | server.py:215 | fit_round 2: strategy sampled 3 clients (out of 10)\n",
            "DEBUG:flwr:fit_round 2: strategy sampled 3 clients (out of 10)\n"
          ]
        },
        {
          "output_type": "stream",
          "name": "stdout",
          "text": [
            "\u001b[2m\u001b[36m(launch_and_evaluate pid=2380)\u001b[0m [Client 5] evaluate, config: {}\n",
            "\u001b[2m\u001b[36m(launch_and_fit pid=2380)\u001b[0m [Client 6] fit, config: {}\n",
            "\u001b[2m\u001b[36m(launch_and_fit pid=2381)\u001b[0m [Client 2] fit, config: {}\n",
            "\u001b[2m\u001b[36m(launch_and_fit pid=2380)\u001b[0m Epoch 1: train loss 0.05881287157535553, accuracy 0.3128888888888889\n",
            "\u001b[2m\u001b[36m(launch_and_fit pid=2381)\u001b[0m Epoch 1: train loss 0.05874095857143402, accuracy 0.314\n",
            "\u001b[2m\u001b[36m(launch_and_fit pid=2381)\u001b[0m [Client 5] fit, config: {}\n"
          ]
        },
        {
          "output_type": "stream",
          "name": "stderr",
          "text": [
            "DEBUG flwr 2023-04-08 00:44:19,531 | server.py:229 | fit_round 2 received 3 results and 0 failures\n",
            "DEBUG:flwr:fit_round 2 received 3 results and 0 failures\n",
            "INFO flwr 2023-04-08 00:44:19,734 | server.py:116 | fit progress: (2, 0.056906822681427, {'accuracy': 0.364}, 31.29599480400003)\n",
            "INFO:flwr:fit progress: (2, 0.056906822681427, {'accuracy': 0.364}, 31.29599480400003)\n",
            "DEBUG flwr 2023-04-08 00:44:19,738 | server.py:165 | evaluate_round 2: strategy sampled 3 clients (out of 10)\n",
            "DEBUG:flwr:evaluate_round 2: strategy sampled 3 clients (out of 10)\n"
          ]
        },
        {
          "output_type": "stream",
          "name": "stdout",
          "text": [
            "\u001b[2m\u001b[36m(launch_and_fit pid=2381)\u001b[0m Epoch 1: train loss 0.059123650193214417, accuracy 0.30644444444444446\n",
            "Server-side evaluation loss 0.056906822681427 / accuracy 0.364\n",
            "\u001b[2m\u001b[36m(launch_and_evaluate pid=2380)\u001b[0m [Client 6] evaluate, config: {}\n",
            "\u001b[2m\u001b[36m(launch_and_evaluate pid=2381)\u001b[0m [Client 5] evaluate, config: {}\n",
            "\u001b[2m\u001b[36m(launch_and_evaluate pid=2381)\u001b[0m [Client 3] evaluate, config: {}\n"
          ]
        },
        {
          "output_type": "stream",
          "name": "stderr",
          "text": [
            "DEBUG flwr 2023-04-08 00:44:25,327 | server.py:179 | evaluate_round 2 received 3 results and 0 failures\n",
            "DEBUG:flwr:evaluate_round 2 received 3 results and 0 failures\n",
            "DEBUG flwr 2023-04-08 00:44:25,333 | server.py:215 | fit_round 3: strategy sampled 3 clients (out of 10)\n",
            "DEBUG:flwr:fit_round 3: strategy sampled 3 clients (out of 10)\n"
          ]
        },
        {
          "output_type": "stream",
          "name": "stdout",
          "text": [
            "\u001b[2m\u001b[36m(launch_and_fit pid=2381)\u001b[0m [Client 0] fit, config: {}\n",
            "\u001b[2m\u001b[36m(launch_and_fit pid=2380)\u001b[0m [Client 5] fit, config: {}\n",
            "\u001b[2m\u001b[36m(launch_and_fit pid=2381)\u001b[0m Epoch 1: train loss 0.05369173362851143, accuracy 0.37222222222222223\n",
            "\u001b[2m\u001b[36m(launch_and_fit pid=2380)\u001b[0m Epoch 1: train loss 0.05414953455328941, accuracy 0.37777777777777777\n",
            "\u001b[2m\u001b[36m(launch_and_fit pid=2381)\u001b[0m [Client 7] fit, config: {}\n"
          ]
        },
        {
          "output_type": "stream",
          "name": "stderr",
          "text": [
            "DEBUG flwr 2023-04-08 00:44:36,343 | server.py:229 | fit_round 3 received 3 results and 0 failures\n",
            "DEBUG:flwr:fit_round 3 received 3 results and 0 failures\n"
          ]
        },
        {
          "output_type": "stream",
          "name": "stdout",
          "text": [
            "\u001b[2m\u001b[36m(launch_and_fit pid=2381)\u001b[0m Epoch 1: train loss 0.05327218770980835, accuracy 0.3748888888888889\n"
          ]
        },
        {
          "output_type": "stream",
          "name": "stderr",
          "text": [
            "INFO flwr 2023-04-08 00:44:36,649 | server.py:116 | fit progress: (3, 0.05262840723991394, {'accuracy': 0.398}, 48.210805311)\n",
            "INFO:flwr:fit progress: (3, 0.05262840723991394, {'accuracy': 0.398}, 48.210805311)\n",
            "DEBUG flwr 2023-04-08 00:44:36,657 | server.py:165 | evaluate_round 3: strategy sampled 3 clients (out of 10)\n",
            "DEBUG:flwr:evaluate_round 3: strategy sampled 3 clients (out of 10)\n"
          ]
        },
        {
          "output_type": "stream",
          "name": "stdout",
          "text": [
            "Server-side evaluation loss 0.05262840723991394 / accuracy 0.398\n",
            "\u001b[2m\u001b[36m(launch_and_evaluate pid=2381)\u001b[0m [Client 6] evaluate, config: {}\n",
            "\u001b[2m\u001b[36m(launch_and_evaluate pid=2380)\u001b[0m [Client 0] evaluate, config: {}\n"
          ]
        },
        {
          "output_type": "stream",
          "name": "stderr",
          "text": [
            "DEBUG flwr 2023-04-08 00:44:42,434 | server.py:179 | evaluate_round 3 received 3 results and 0 failures\n",
            "DEBUG:flwr:evaluate_round 3 received 3 results and 0 failures\n",
            "INFO flwr 2023-04-08 00:44:42,437 | server.py:144 | FL finished in 53.998930855000026\n",
            "INFO:flwr:FL finished in 53.998930855000026\n",
            "INFO flwr 2023-04-08 00:44:42,439 | app.py:202 | app_fit: losses_distributed [(1, 0.06243557929992676), (2, 0.05606243872642517), (3, 0.05256911897659302)]\n",
            "INFO:flwr:app_fit: losses_distributed [(1, 0.06243557929992676), (2, 0.05606243872642517), (3, 0.05256911897659302)]\n",
            "INFO flwr 2023-04-08 00:44:42,440 | app.py:203 | app_fit: metrics_distributed {}\n",
            "INFO:flwr:app_fit: metrics_distributed {}\n",
            "INFO flwr 2023-04-08 00:44:42,442 | app.py:204 | app_fit: losses_centralized [(0, 0.07364050245285034), (1, 0.06291225051879883), (2, 0.056906822681427), (3, 0.05262840723991394)]\n",
            "INFO:flwr:app_fit: losses_centralized [(0, 0.07364050245285034), (1, 0.06291225051879883), (2, 0.056906822681427), (3, 0.05262840723991394)]\n",
            "INFO flwr 2023-04-08 00:44:42,444 | app.py:205 | app_fit: metrics_centralized {'accuracy': [(0, 0.092), (1, 0.282), (2, 0.364), (3, 0.398)]}\n",
            "INFO:flwr:app_fit: metrics_centralized {'accuracy': [(0, 0.092), (1, 0.282), (2, 0.364), (3, 0.398)]}\n"
          ]
        },
        {
          "output_type": "stream",
          "name": "stdout",
          "text": [
            "\u001b[2m\u001b[36m(launch_and_evaluate pid=2381)\u001b[0m [Client 9] evaluate, config: {}\n"
          ]
        },
        {
          "output_type": "execute_result",
          "data": {
            "text/plain": [
              "History (loss, distributed):\n",
              "\tround 1: 0.06243557929992676\n",
              "\tround 2: 0.05606243872642517\n",
              "\tround 3: 0.05256911897659302\n",
              "History (loss, centralized):\n",
              "\tround 0: 0.07364050245285034\n",
              "\tround 1: 0.06291225051879883\n",
              "\tround 2: 0.056906822681427\n",
              "\tround 3: 0.05262840723991394\n",
              "History (metrics, centralized):\n",
              "{'accuracy': [(0, 0.092), (1, 0.282), (2, 0.364), (3, 0.398)]}"
            ]
          },
          "metadata": {},
          "execution_count": 9
        }
      ],
      "source": [
        "strategy = fl.server.strategy.FedAvg(\n",
        "    fraction_fit=0.3,\n",
        "    fraction_evaluate=0.3,\n",
        "    min_fit_clients=3,\n",
        "    min_evaluate_clients=3,\n",
        "    min_available_clients=NUM_CLIENTS,\n",
        "    initial_parameters=fl.common.ndarrays_to_parameters(get_parameters(Net())),\n",
        "    evaluate_fn=evaluate,  # Pass the evaluation function\n",
        ")\n",
        "\n",
        "fl.simulation.start_simulation(\n",
        "    client_fn=client_fn,\n",
        "    num_clients=NUM_CLIENTS,\n",
        "    config=fl.server.ServerConfig(num_rounds=3),  # Just three rounds\n",
        "    strategy=strategy,\n",
        "    client_resources=client_resources,\n",
        ")"
      ]
    },
    {
      "cell_type": "markdown",
      "metadata": {
        "id": "Eih3hBzQQuNy"
      },
      "source": [
        "## Sending/receiving arbitrary values to/from clients\n",
        "\n",
        "In some situations, we want to configure client-side execution (trainig, evaluation) from the server-side. One example for that is the server asking the clients to train for a certain number of local epochs. Flower provides a way to send configuration values from the server to the clients using a dictionary. Let's look at an example where the clients receive values from the server through the `config` parameter in `fit` (`config` is also available in `evaluate`). The `fit` method receives the configuration dictionary through the `config` parameter and can then read values from this dictionary. In this example, it reads `server_round` and `local_epochs` and uses those values to improve the logging and configure the number of local training epochs:"
      ]
    },
    {
      "cell_type": "code",
      "execution_count": null,
      "metadata": {
        "id": "-cO8CHE-QuNz"
      },
      "outputs": [],
      "source": [
        "class FlowerClient(fl.client.NumPyClient):\n",
        "    def __init__(self, cid, net, trainloader, valloader):\n",
        "        self.cid = cid\n",
        "        self.net = net\n",
        "        self.trainloader = trainloader\n",
        "        self.valloader = valloader\n",
        "\n",
        "    def get_parameters(self, config):\n",
        "        print(f\"[Client {self.cid}] get_parameters\")\n",
        "        return get_parameters(self.net)\n",
        "\n",
        "    def fit(self, parameters, config):\n",
        "        # Read values from config\n",
        "        server_round = config[\"server_round\"]\n",
        "        local_epochs = config[\"local_epochs\"]\n",
        "\n",
        "        # Use values provided by the config\n",
        "        print(f\"[Client {self.cid}, round {server_round}] fit, config: {config}\")\n",
        "        set_parameters(self.net, parameters)\n",
        "        train(self.net, self.trainloader, epochs=local_epochs)\n",
        "        return get_parameters(self.net), len(self.trainloader), {}\n",
        "\n",
        "    def evaluate(self, parameters, config):\n",
        "        print(f\"[Client {self.cid}] evaluate, config: {config}\")\n",
        "        set_parameters(self.net, parameters)\n",
        "        loss, accuracy = test(self.net, self.valloader)\n",
        "        return float(loss), len(self.valloader), {\"accuracy\": float(accuracy)}\n",
        "\n",
        "\n",
        "def client_fn(cid) -> FlowerClient:\n",
        "    net = Net().to(DEVICE)\n",
        "    trainloader = trainloaders[int(cid)]\n",
        "    valloader = valloaders[int(cid)]\n",
        "    return FlowerClient(cid, net, trainloader, valloader)"
      ]
    },
    {
      "cell_type": "markdown",
      "metadata": {
        "id": "BE_xFFUNQuN0"
      },
      "source": [
        "So how can we  send this config dictionary from server to clients? The built-in Flower Strategies provide way to do this, and it works similarly to the way server-side evaluation works. We provide a function to the strategy, and the strategy calls this function for every round of federated learning:"
      ]
    },
    {
      "cell_type": "code",
      "execution_count": null,
      "metadata": {
        "id": "1LY09nucQuN0"
      },
      "outputs": [],
      "source": [
        "def fit_config(server_round: int):\n",
        "    \"\"\"Return training configuration dict for each round.\n",
        "\n",
        "    Perform two rounds of training with one local epoch, increase to two local\n",
        "    epochs afterwards.\n",
        "    \"\"\"\n",
        "    config = {\n",
        "        \"server_round\": server_round,  # The current round of federated learning\n",
        "        \"local_epochs\": 1 if server_round < 2 else 2,  #\n",
        "    }\n",
        "    return config"
      ]
    },
    {
      "cell_type": "markdown",
      "metadata": {
        "id": "l6wCowz0QuN1"
      },
      "source": [
        "Next, we'll just pass this function to the FedAvg strategy before starting the simulation:"
      ]
    },
    {
      "cell_type": "code",
      "execution_count": null,
      "metadata": {
        "id": "GVrHLa1GQuN2",
        "colab": {
          "base_uri": "https://localhost:8080/"
        },
        "outputId": "153c7b7e-df70-4051-ec17-a7f7e181e10f"
      },
      "outputs": [
        {
          "output_type": "stream",
          "name": "stderr",
          "text": [
            "INFO flwr 2023-04-08 00:44:53,093 | app.py:145 | Starting Flower simulation, config: ServerConfig(num_rounds=3, round_timeout=None)\n",
            "INFO:flwr:Starting Flower simulation, config: ServerConfig(num_rounds=3, round_timeout=None)\n",
            "2023-04-08 00:44:57,471\tINFO worker.py:1529 -- Started a local Ray instance. View the dashboard at \u001b[1m\u001b[32m127.0.0.1:8265 \u001b[39m\u001b[22m\n",
            "INFO flwr 2023-04-08 00:44:58,850 | app.py:179 | Flower VCE: Ray initialized with resources: {'memory': 7912978023.0, 'node:172.28.0.12': 1.0, 'object_store_memory': 3956489011.0, 'CPU': 2.0, 'GPU': 1.0}\n",
            "INFO:flwr:Flower VCE: Ray initialized with resources: {'memory': 7912978023.0, 'node:172.28.0.12': 1.0, 'object_store_memory': 3956489011.0, 'CPU': 2.0, 'GPU': 1.0}\n",
            "INFO flwr 2023-04-08 00:44:58,856 | server.py:86 | Initializing global parameters\n",
            "INFO:flwr:Initializing global parameters\n",
            "INFO flwr 2023-04-08 00:44:58,861 | server.py:266 | Using initial parameters provided by strategy\n",
            "INFO:flwr:Using initial parameters provided by strategy\n",
            "INFO flwr 2023-04-08 00:44:58,865 | server.py:88 | Evaluating initial parameters\n",
            "INFO:flwr:Evaluating initial parameters\n",
            "INFO flwr 2023-04-08 00:44:59,199 | server.py:91 | initial parameters (loss, other metrics): 0.07373963689804078, {'accuracy': 0.096}\n",
            "INFO:flwr:initial parameters (loss, other metrics): 0.07373963689804078, {'accuracy': 0.096}\n",
            "INFO flwr 2023-04-08 00:44:59,208 | server.py:101 | FL starting\n",
            "INFO:flwr:FL starting\n",
            "DEBUG flwr 2023-04-08 00:44:59,212 | server.py:215 | fit_round 1: strategy sampled 3 clients (out of 10)\n",
            "DEBUG:flwr:fit_round 1: strategy sampled 3 clients (out of 10)\n"
          ]
        },
        {
          "output_type": "stream",
          "name": "stdout",
          "text": [
            "Server-side evaluation loss 0.07373963689804078 / accuracy 0.096\n",
            "\u001b[2m\u001b[36m(launch_and_fit pid=2998)\u001b[0m [Client 7, round 1] fit, config: {'server_round': 1, 'local_epochs': 1}\n",
            "\u001b[2m\u001b[36m(launch_and_fit pid=2999)\u001b[0m [Client 3, round 1] fit, config: {'server_round': 1, 'local_epochs': 1}\n",
            "\u001b[2m\u001b[36m(launch_and_fit pid=2998)\u001b[0m Epoch 1: train loss 0.06477630883455276, accuracy 0.23022222222222222\n",
            "\u001b[2m\u001b[36m(launch_and_fit pid=2999)\u001b[0m Epoch 1: train loss 0.0647486224770546, accuracy 0.21688888888888888\n",
            "\u001b[2m\u001b[36m(launch_and_fit pid=2998)\u001b[0m [Client 5, round 1] fit, config: {'server_round': 1, 'local_epochs': 1}\n"
          ]
        },
        {
          "output_type": "stream",
          "name": "stderr",
          "text": [
            "DEBUG flwr 2023-04-08 00:45:14,718 | server.py:229 | fit_round 1 received 3 results and 0 failures\n",
            "DEBUG:flwr:fit_round 1 received 3 results and 0 failures\n",
            "WARNING flwr 2023-04-08 00:45:14,741 | fedavg.py:242 | No fit_metrics_aggregation_fn provided\n",
            "WARNING:flwr:No fit_metrics_aggregation_fn provided\n",
            "INFO flwr 2023-04-08 00:45:14,948 | server.py:116 | fit progress: (1, 0.06205886769294739, {'accuracy': 0.282}, 15.73631741700001)\n",
            "INFO:flwr:fit progress: (1, 0.06205886769294739, {'accuracy': 0.282}, 15.73631741700001)\n",
            "DEBUG flwr 2023-04-08 00:45:14,954 | server.py:165 | evaluate_round 1: strategy sampled 3 clients (out of 10)\n",
            "DEBUG:flwr:evaluate_round 1: strategy sampled 3 clients (out of 10)\n"
          ]
        },
        {
          "output_type": "stream",
          "name": "stdout",
          "text": [
            "\u001b[2m\u001b[36m(launch_and_fit pid=2998)\u001b[0m Epoch 1: train loss 0.06472079455852509, accuracy 0.22577777777777777\n",
            "Server-side evaluation loss 0.06205886769294739 / accuracy 0.282\n",
            "\u001b[2m\u001b[36m(launch_and_evaluate pid=2998)\u001b[0m [Client 1] evaluate, config: {}\n",
            "\u001b[2m\u001b[36m(launch_and_evaluate pid=2999)\u001b[0m [Client 9] evaluate, config: {}\n"
          ]
        },
        {
          "output_type": "stream",
          "name": "stderr",
          "text": [
            "DEBUG flwr 2023-04-08 00:45:18,919 | server.py:179 | evaluate_round 1 received 3 results and 0 failures\n",
            "DEBUG:flwr:evaluate_round 1 received 3 results and 0 failures\n",
            "WARNING flwr 2023-04-08 00:45:18,926 | fedavg.py:273 | No evaluate_metrics_aggregation_fn provided\n",
            "WARNING:flwr:No evaluate_metrics_aggregation_fn provided\n",
            "DEBUG flwr 2023-04-08 00:45:18,928 | server.py:215 | fit_round 2: strategy sampled 3 clients (out of 10)\n",
            "DEBUG:flwr:fit_round 2: strategy sampled 3 clients (out of 10)\n"
          ]
        },
        {
          "output_type": "stream",
          "name": "stdout",
          "text": [
            "\u001b[2m\u001b[36m(launch_and_evaluate pid=2998)\u001b[0m [Client 5] evaluate, config: {}\n",
            "\u001b[2m\u001b[36m(launch_and_fit pid=2998)\u001b[0m [Client 0, round 2] fit, config: {'server_round': 2, 'local_epochs': 2}\n",
            "\u001b[2m\u001b[36m(launch_and_fit pid=2999)\u001b[0m [Client 7, round 2] fit, config: {'server_round': 2, 'local_epochs': 2}\n",
            "\u001b[2m\u001b[36m(launch_and_fit pid=2998)\u001b[0m Epoch 1: train loss 0.05698158219456673, accuracy 0.32666666666666666\n",
            "\u001b[2m\u001b[36m(launch_and_fit pid=2999)\u001b[0m Epoch 1: train loss 0.05613984167575836, accuracy 0.324\n",
            "\u001b[2m\u001b[36m(launch_and_fit pid=2999)\u001b[0m Epoch 2: train loss 0.050665393471717834, accuracy 0.40555555555555556\n",
            "\u001b[2m\u001b[36m(launch_and_fit pid=2998)\u001b[0m Epoch 2: train loss 0.05118188261985779, accuracy 0.3953333333333333\n",
            "\u001b[2m\u001b[36m(launch_and_fit pid=2999)\u001b[0m [Client 3, round 2] fit, config: {'server_round': 2, 'local_epochs': 2}\n",
            "\u001b[2m\u001b[36m(launch_and_fit pid=2999)\u001b[0m Epoch 1: train loss 0.05674556642770767, accuracy 0.32955555555555555\n"
          ]
        },
        {
          "output_type": "stream",
          "name": "stderr",
          "text": [
            "DEBUG flwr 2023-04-08 00:45:38,335 | server.py:229 | fit_round 2 received 3 results and 0 failures\n",
            "DEBUG:flwr:fit_round 2 received 3 results and 0 failures\n"
          ]
        },
        {
          "output_type": "stream",
          "name": "stdout",
          "text": [
            "\u001b[2m\u001b[36m(launch_and_fit pid=2999)\u001b[0m Epoch 2: train loss 0.05178118869662285, accuracy 0.39111111111111113\n"
          ]
        },
        {
          "output_type": "stream",
          "name": "stderr",
          "text": [
            "INFO flwr 2023-04-08 00:45:38,647 | server.py:116 | fit progress: (2, 0.051531314849853516, {'accuracy': 0.4}, 39.435930386999985)\n",
            "INFO:flwr:fit progress: (2, 0.051531314849853516, {'accuracy': 0.4}, 39.435930386999985)\n",
            "DEBUG flwr 2023-04-08 00:45:38,653 | server.py:165 | evaluate_round 2: strategy sampled 3 clients (out of 10)\n",
            "DEBUG:flwr:evaluate_round 2: strategy sampled 3 clients (out of 10)\n"
          ]
        },
        {
          "output_type": "stream",
          "name": "stdout",
          "text": [
            "Server-side evaluation loss 0.051531314849853516 / accuracy 0.4\n",
            "\u001b[2m\u001b[36m(launch_and_evaluate pid=2998)\u001b[0m [Client 2] evaluate, config: {}\n",
            "\u001b[2m\u001b[36m(launch_and_evaluate pid=2999)\u001b[0m [Client 8] evaluate, config: {}\n"
          ]
        },
        {
          "output_type": "stream",
          "name": "stderr",
          "text": [
            "DEBUG flwr 2023-04-08 00:45:43,793 | server.py:179 | evaluate_round 2 received 3 results and 0 failures\n",
            "DEBUG:flwr:evaluate_round 2 received 3 results and 0 failures\n",
            "DEBUG flwr 2023-04-08 00:45:43,797 | server.py:215 | fit_round 3: strategy sampled 3 clients (out of 10)\n",
            "DEBUG:flwr:fit_round 3: strategy sampled 3 clients (out of 10)\n"
          ]
        },
        {
          "output_type": "stream",
          "name": "stdout",
          "text": [
            "\u001b[2m\u001b[36m(launch_and_evaluate pid=2999)\u001b[0m [Client 7] evaluate, config: {}\n",
            "\u001b[2m\u001b[36m(launch_and_fit pid=2998)\u001b[0m [Client 4, round 3] fit, config: {'server_round': 3, 'local_epochs': 2}\n",
            "\u001b[2m\u001b[36m(launch_and_fit pid=2999)\u001b[0m [Client 9, round 3] fit, config: {'server_round': 3, 'local_epochs': 2}\n",
            "\u001b[2m\u001b[36m(launch_and_fit pid=2998)\u001b[0m Epoch 1: train loss 0.049849092960357666, accuracy 0.4171111111111111\n",
            "\u001b[2m\u001b[36m(launch_and_fit pid=2999)\u001b[0m Epoch 1: train loss 0.05028688162565231, accuracy 0.4066666666666667\n",
            "\u001b[2m\u001b[36m(launch_and_fit pid=2998)\u001b[0m Epoch 2: train loss 0.04706693813204765, accuracy 0.4524444444444444\n",
            "\u001b[2m\u001b[36m(launch_and_fit pid=2998)\u001b[0m [Client 1, round 3] fit, config: {'server_round': 3, 'local_epochs': 2}\n",
            "\u001b[2m\u001b[36m(launch_and_fit pid=2999)\u001b[0m Epoch 2: train loss 0.04734446480870247, accuracy 0.44333333333333336\n",
            "\u001b[2m\u001b[36m(launch_and_fit pid=2998)\u001b[0m Epoch 1: train loss 0.049530915915966034, accuracy 0.41644444444444445\n"
          ]
        },
        {
          "output_type": "stream",
          "name": "stderr",
          "text": [
            "DEBUG flwr 2023-04-08 00:46:03,167 | server.py:229 | fit_round 3 received 3 results and 0 failures\n",
            "DEBUG:flwr:fit_round 3 received 3 results and 0 failures\n",
            "INFO flwr 2023-04-08 00:46:03,358 | server.py:116 | fit progress: (3, 0.04997988176345825, {'accuracy': 0.424}, 64.14670738900003)\n",
            "INFO:flwr:fit progress: (3, 0.04997988176345825, {'accuracy': 0.424}, 64.14670738900003)\n",
            "DEBUG flwr 2023-04-08 00:46:03,361 | server.py:165 | evaluate_round 3: strategy sampled 3 clients (out of 10)\n",
            "DEBUG:flwr:evaluate_round 3: strategy sampled 3 clients (out of 10)\n"
          ]
        },
        {
          "output_type": "stream",
          "name": "stdout",
          "text": [
            "\u001b[2m\u001b[36m(launch_and_fit pid=2998)\u001b[0m Epoch 2: train loss 0.04647305980324745, accuracy 0.45444444444444443\n",
            "Server-side evaluation loss 0.04997988176345825 / accuracy 0.424\n",
            "\u001b[2m\u001b[36m(launch_and_evaluate pid=2998)\u001b[0m [Client 1] evaluate, config: {}\n",
            "\u001b[2m\u001b[36m(launch_and_evaluate pid=2999)\u001b[0m [Client 4] evaluate, config: {}\n"
          ]
        },
        {
          "output_type": "stream",
          "name": "stderr",
          "text": [
            "DEBUG flwr 2023-04-08 00:46:07,269 | server.py:179 | evaluate_round 3 received 3 results and 0 failures\n",
            "DEBUG:flwr:evaluate_round 3 received 3 results and 0 failures\n",
            "INFO flwr 2023-04-08 00:46:07,274 | server.py:144 | FL finished in 68.06253614500002\n",
            "INFO:flwr:FL finished in 68.06253614500002\n",
            "INFO flwr 2023-04-08 00:46:07,279 | app.py:202 | app_fit: losses_distributed [(1, 0.06195564826329549), (2, 0.051947560787200926), (3, 0.04767045005162557)]\n",
            "INFO:flwr:app_fit: losses_distributed [(1, 0.06195564826329549), (2, 0.051947560787200926), (3, 0.04767045005162557)]\n",
            "INFO flwr 2023-04-08 00:46:07,282 | app.py:203 | app_fit: metrics_distributed {}\n",
            "INFO:flwr:app_fit: metrics_distributed {}\n",
            "INFO flwr 2023-04-08 00:46:07,292 | app.py:204 | app_fit: losses_centralized [(0, 0.07373963689804078), (1, 0.06205886769294739), (2, 0.051531314849853516), (3, 0.04997988176345825)]\n",
            "INFO:flwr:app_fit: losses_centralized [(0, 0.07373963689804078), (1, 0.06205886769294739), (2, 0.051531314849853516), (3, 0.04997988176345825)]\n",
            "INFO flwr 2023-04-08 00:46:07,294 | app.py:205 | app_fit: metrics_centralized {'accuracy': [(0, 0.096), (1, 0.282), (2, 0.4), (3, 0.424)]}\n",
            "INFO:flwr:app_fit: metrics_centralized {'accuracy': [(0, 0.096), (1, 0.282), (2, 0.4), (3, 0.424)]}\n"
          ]
        },
        {
          "output_type": "stream",
          "name": "stdout",
          "text": [
            "\u001b[2m\u001b[36m(launch_and_evaluate pid=2999)\u001b[0m [Client 8] evaluate, config: {}\n"
          ]
        },
        {
          "output_type": "execute_result",
          "data": {
            "text/plain": [
              "History (loss, distributed):\n",
              "\tround 1: 0.06195564826329549\n",
              "\tround 2: 0.051947560787200926\n",
              "\tround 3: 0.04767045005162557\n",
              "History (loss, centralized):\n",
              "\tround 0: 0.07373963689804078\n",
              "\tround 1: 0.06205886769294739\n",
              "\tround 2: 0.051531314849853516\n",
              "\tround 3: 0.04997988176345825\n",
              "History (metrics, centralized):\n",
              "{'accuracy': [(0, 0.096), (1, 0.282), (2, 0.4), (3, 0.424)]}"
            ]
          },
          "metadata": {},
          "execution_count": 12
        }
      ],
      "source": [
        "strategy = fl.server.strategy.FedAvg(\n",
        "    fraction_fit=0.3,\n",
        "    fraction_evaluate=0.3,\n",
        "    min_fit_clients=3,\n",
        "    min_evaluate_clients=3,\n",
        "    min_available_clients=NUM_CLIENTS,\n",
        "    initial_parameters=fl.common.ndarrays_to_parameters(get_parameters(Net())),\n",
        "    evaluate_fn=evaluate,\n",
        "    on_fit_config_fn=fit_config,  # Pass the fit_config function\n",
        ")\n",
        "\n",
        "fl.simulation.start_simulation(\n",
        "    client_fn=client_fn,\n",
        "    num_clients=NUM_CLIENTS,\n",
        "    config=fl.server.ServerConfig(num_rounds=3),  # Just three rounds\n",
        "    strategy=strategy,\n",
        "    client_resources=client_resources,\n",
        ")"
      ]
    },
    {
      "cell_type": "markdown",
      "metadata": {
        "id": "CpOqiFPZQuN2"
      },
      "source": [
        "As we can see, the client logs now include the current round of federated learning (which they read from the `config` dictionary). We can also configure local training to run for one epoch during the first and second round of federated learning, and then for two epochs during the third round.\n",
        "\n",
        "Clients can also return arbitrary values to the server. To do so, they return a dictionary from `fit` and/or `evaluate`. We have seen and used this concept throughout this notebook without mentioning it explicitly: our `FlowerClient` returns a dictionary containing a custom key/value pair as the third return value in `evaluate`."
      ]
    },
    {
      "cell_type": "markdown",
      "metadata": {
        "id": "HOya4Y5wQuN3"
      },
      "source": [
        "## Scaling federated learning\n",
        "\n",
        "As a last step in this notebook, let's see how we can use Flower to experiment with a large number of clients."
      ]
    },
    {
      "cell_type": "code",
      "execution_count": null,
      "metadata": {
        "id": "Na54G2muQuN3",
        "colab": {
          "base_uri": "https://localhost:8080/"
        },
        "outputId": "a40ffca5-548c-4c67-839b-444faa570cfc"
      },
      "outputs": [
        {
          "output_type": "stream",
          "name": "stdout",
          "text": [
            "Files already downloaded and verified\n",
            "Files already downloaded and verified\n"
          ]
        }
      ],
      "source": [
        "NUM_CLIENTS = 1000\n",
        "\n",
        "trainloaders, valloaders, testloader = load_datasets(NUM_CLIENTS)"
      ]
    },
    {
      "cell_type": "markdown",
      "metadata": {
        "id": "wqNP8vQcQuN5"
      },
      "source": [
        "We now have 1000 partitions, each holding 45 training and 5 validation examples. Given that the number of training examples on each client is quite small, we should probably train the model a bit longer, so we configure the clients to perform 3 local training epochs. We should also adjust the fraction of clients selected for training during each round (we don't want all 1000 clients participating in every round), so we adjust `fraction_fit` to `0.05`, which means that only 5% of available clients (so 50 clients) will be selected for training each round:\n"
      ]
    },
    {
      "cell_type": "code",
      "execution_count": null,
      "metadata": {
        "id": "CF-YXg21QuN5",
        "colab": {
          "base_uri": "https://localhost:8080/"
        },
        "outputId": "36787815-063b-4dca-982b-608a06ca4426"
      },
      "outputs": [
        {
          "output_type": "stream",
          "name": "stderr",
          "text": [
            "INFO flwr 2023-04-08 00:46:24,842 | app.py:145 | Starting Flower simulation, config: ServerConfig(num_rounds=3, round_timeout=None)\n",
            "INFO:flwr:Starting Flower simulation, config: ServerConfig(num_rounds=3, round_timeout=None)\n",
            "2023-04-08 00:46:28,948\tINFO worker.py:1529 -- Started a local Ray instance. View the dashboard at \u001b[1m\u001b[32m127.0.0.1:8265 \u001b[39m\u001b[22m\n",
            "INFO flwr 2023-04-08 00:46:30,399 | app.py:179 | Flower VCE: Ray initialized with resources: {'memory': 7913592423.0, 'CPU': 2.0, 'node:172.28.0.12': 1.0, 'GPU': 1.0, 'object_store_memory': 3956796211.0}\n",
            "INFO:flwr:Flower VCE: Ray initialized with resources: {'memory': 7913592423.0, 'CPU': 2.0, 'node:172.28.0.12': 1.0, 'GPU': 1.0, 'object_store_memory': 3956796211.0}\n",
            "INFO flwr 2023-04-08 00:46:30,411 | server.py:86 | Initializing global parameters\n",
            "INFO:flwr:Initializing global parameters\n",
            "INFO flwr 2023-04-08 00:46:30,420 | server.py:266 | Using initial parameters provided by strategy\n",
            "INFO:flwr:Using initial parameters provided by strategy\n",
            "INFO flwr 2023-04-08 00:46:30,429 | server.py:88 | Evaluating initial parameters\n",
            "INFO:flwr:Evaluating initial parameters\n",
            "INFO flwr 2023-04-08 00:46:30,437 | server.py:101 | FL starting\n",
            "INFO:flwr:FL starting\n",
            "DEBUG flwr 2023-04-08 00:46:30,444 | server.py:215 | fit_round 1: strategy sampled 25 clients (out of 1000)\n",
            "DEBUG:flwr:fit_round 1: strategy sampled 25 clients (out of 1000)\n"
          ]
        },
        {
          "output_type": "stream",
          "name": "stdout",
          "text": [
            "\u001b[2m\u001b[36m(launch_and_fit pid=3708)\u001b[0m [Client 712, round 1] fit, config: {'server_round': 1, 'local_epochs': 3}\n",
            "\u001b[2m\u001b[36m(launch_and_fit pid=3707)\u001b[0m [Client 325, round 1] fit, config: {'server_round': 1, 'local_epochs': 3}\n",
            "\u001b[2m\u001b[36m(launch_and_fit pid=3707)\u001b[0m Epoch 1: train loss 0.1021730825304985, accuracy 0.08888888888888889\n",
            "\u001b[2m\u001b[36m(launch_and_fit pid=3708)\u001b[0m Epoch 1: train loss 0.10190457105636597, accuracy 0.08888888888888889\n",
            "\u001b[2m\u001b[36m(launch_and_fit pid=3708)\u001b[0m Epoch 2: train loss 0.10196076333522797, accuracy 0.1111111111111111\n",
            "\u001b[2m\u001b[36m(launch_and_fit pid=3707)\u001b[0m Epoch 2: train loss 0.10204503685235977, accuracy 0.08888888888888889\n",
            "\u001b[2m\u001b[36m(launch_and_fit pid=3707)\u001b[0m Epoch 3: train loss 0.10117954760789871, accuracy 0.17777777777777778\n",
            "\u001b[2m\u001b[36m(launch_and_fit pid=3708)\u001b[0m Epoch 3: train loss 0.10096663236618042, accuracy 0.24444444444444444\n",
            "\u001b[2m\u001b[36m(launch_and_fit pid=3708)\u001b[0m [Client 394, round 1] fit, config: {'server_round': 1, 'local_epochs': 3}\n",
            "\u001b[2m\u001b[36m(launch_and_fit pid=3707)\u001b[0m [Client 728, round 1] fit, config: {'server_round': 1, 'local_epochs': 3}\n",
            "\u001b[2m\u001b[36m(launch_and_fit pid=3708)\u001b[0m Epoch 1: train loss 0.1029818207025528, accuracy 0.044444444444444446\n",
            "\u001b[2m\u001b[36m(launch_and_fit pid=3708)\u001b[0m Epoch 2: train loss 0.10165341943502426, accuracy 0.2222222222222222\n",
            "\u001b[2m\u001b[36m(launch_and_fit pid=3707)\u001b[0m Epoch 1: train loss 0.10259663313627243, accuracy 0.08888888888888889\n",
            "\u001b[2m\u001b[36m(launch_and_fit pid=3708)\u001b[0m Epoch 3: train loss 0.101627416908741, accuracy 0.3111111111111111\n",
            "\u001b[2m\u001b[36m(launch_and_fit pid=3707)\u001b[0m Epoch 2: train loss 0.10186005383729935, accuracy 0.2\n",
            "\u001b[2m\u001b[36m(launch_and_fit pid=3707)\u001b[0m Epoch 3: train loss 0.10147435963153839, accuracy 0.15555555555555556\n",
            "\u001b[2m\u001b[36m(launch_and_fit pid=3708)\u001b[0m [Client 776, round 1] fit, config: {'server_round': 1, 'local_epochs': 3}\n",
            "\u001b[2m\u001b[36m(launch_and_fit pid=3708)\u001b[0m Epoch 1: train loss 0.10281869769096375, accuracy 0.06666666666666667\n",
            "\u001b[2m\u001b[36m(launch_and_fit pid=3707)\u001b[0m [Client 330, round 1] fit, config: {'server_round': 1, 'local_epochs': 3}\n",
            "\u001b[2m\u001b[36m(launch_and_fit pid=3707)\u001b[0m Epoch 1: train loss 0.10331027954816818, accuracy 0.044444444444444446\n",
            "\u001b[2m\u001b[36m(launch_and_fit pid=3708)\u001b[0m Epoch 2: train loss 0.10236025601625443, accuracy 0.15555555555555556\n",
            "\u001b[2m\u001b[36m(launch_and_fit pid=3708)\u001b[0m Epoch 3: train loss 0.10145362466573715, accuracy 0.2\n",
            "\u001b[2m\u001b[36m(launch_and_fit pid=3707)\u001b[0m Epoch 2: train loss 0.10231933742761612, accuracy 0.15555555555555556\n",
            "\u001b[2m\u001b[36m(launch_and_fit pid=3707)\u001b[0m Epoch 3: train loss 0.10201732069253922, accuracy 0.15555555555555556\n",
            "\u001b[2m\u001b[36m(launch_and_fit pid=3707)\u001b[0m [Client 526, round 1] fit, config: {'server_round': 1, 'local_epochs': 3}\n",
            "\u001b[2m\u001b[36m(launch_and_fit pid=3708)\u001b[0m [Client 454, round 1] fit, config: {'server_round': 1, 'local_epochs': 3}\n",
            "\u001b[2m\u001b[36m(launch_and_fit pid=3708)\u001b[0m Epoch 1: train loss 0.10252214968204498, accuracy 0.15555555555555556\n",
            "\u001b[2m\u001b[36m(launch_and_fit pid=3708)\u001b[0m Epoch 2: train loss 0.10201295465230942, accuracy 0.15555555555555556\n",
            "\u001b[2m\u001b[36m(launch_and_fit pid=3707)\u001b[0m Epoch 1: train loss 0.10297423601150513, accuracy 0.08888888888888889\n",
            "\u001b[2m\u001b[36m(launch_and_fit pid=3707)\u001b[0m Epoch 2: train loss 0.10211459547281265, accuracy 0.1111111111111111\n",
            "\u001b[2m\u001b[36m(launch_and_fit pid=3708)\u001b[0m Epoch 3: train loss 0.10149431228637695, accuracy 0.15555555555555556\n",
            "\u001b[2m\u001b[36m(launch_and_fit pid=3707)\u001b[0m Epoch 3: train loss 0.10204312205314636, accuracy 0.15555555555555556\n",
            "\u001b[2m\u001b[36m(launch_and_fit pid=3708)\u001b[0m [Client 856, round 1] fit, config: {'server_round': 1, 'local_epochs': 3}\n",
            "\u001b[2m\u001b[36m(launch_and_fit pid=3708)\u001b[0m Epoch 1: train loss 0.10304705053567886, accuracy 0.08888888888888889\n",
            "\u001b[2m\u001b[36m(launch_and_fit pid=3708)\u001b[0m Epoch 2: train loss 0.10213654488325119, accuracy 0.08888888888888889\n",
            "\u001b[2m\u001b[36m(launch_and_fit pid=3707)\u001b[0m [Client 663, round 1] fit, config: {'server_round': 1, 'local_epochs': 3}\n",
            "\u001b[2m\u001b[36m(launch_and_fit pid=3708)\u001b[0m Epoch 3: train loss 0.10219272971153259, accuracy 0.1111111111111111\n",
            "\u001b[2m\u001b[36m(launch_and_fit pid=3707)\u001b[0m Epoch 1: train loss 0.10230696946382523, accuracy 0.044444444444444446\n",
            "\u001b[2m\u001b[36m(launch_and_fit pid=3707)\u001b[0m Epoch 2: train loss 0.10195139795541763, accuracy 0.06666666666666667\n",
            "\u001b[2m\u001b[36m(launch_and_fit pid=3707)\u001b[0m Epoch 3: train loss 0.1008596196770668, accuracy 0.24444444444444444\n",
            "\u001b[2m\u001b[36m(launch_and_fit pid=3708)\u001b[0m [Client 104, round 1] fit, config: {'server_round': 1, 'local_epochs': 3}\n",
            "\u001b[2m\u001b[36m(launch_and_fit pid=3708)\u001b[0m Epoch 1: train loss 0.10169616341590881, accuracy 0.1111111111111111\n",
            "\u001b[2m\u001b[36m(launch_and_fit pid=3707)\u001b[0m [Client 482, round 1] fit, config: {'server_round': 1, 'local_epochs': 3}\n",
            "\u001b[2m\u001b[36m(launch_and_fit pid=3708)\u001b[0m Epoch 2: train loss 0.10132130235433578, accuracy 0.13333333333333333\n",
            "\u001b[2m\u001b[36m(launch_and_fit pid=3707)\u001b[0m Epoch 1: train loss 0.1021656021475792, accuracy 0.1111111111111111\n",
            "\u001b[2m\u001b[36m(launch_and_fit pid=3708)\u001b[0m Epoch 3: train loss 0.09992265701293945, accuracy 0.15555555555555556\n",
            "\u001b[2m\u001b[36m(launch_and_fit pid=3707)\u001b[0m Epoch 2: train loss 0.10168775171041489, accuracy 0.17777777777777778\n",
            "\u001b[2m\u001b[36m(launch_and_fit pid=3707)\u001b[0m Epoch 3: train loss 0.10087203234434128, accuracy 0.15555555555555556\n",
            "\u001b[2m\u001b[36m(launch_and_fit pid=3707)\u001b[0m [Client 813, round 1] fit, config: {'server_round': 1, 'local_epochs': 3}\n",
            "\u001b[2m\u001b[36m(launch_and_fit pid=3708)\u001b[0m [Client 171, round 1] fit, config: {'server_round': 1, 'local_epochs': 3}\n",
            "\u001b[2m\u001b[36m(launch_and_fit pid=3708)\u001b[0m Epoch 1: train loss 0.10069603472948074, accuracy 0.2222222222222222\n",
            "\u001b[2m\u001b[36m(launch_and_fit pid=3707)\u001b[0m Epoch 1: train loss 0.10216473788022995, accuracy 0.06666666666666667\n",
            "\u001b[2m\u001b[36m(launch_and_fit pid=3707)\u001b[0m Epoch 2: train loss 0.10183285921812057, accuracy 0.17777777777777778\n",
            "\u001b[2m\u001b[36m(launch_and_fit pid=3708)\u001b[0m Epoch 2: train loss 0.09984666854143143, accuracy 0.2222222222222222\n",
            "\u001b[2m\u001b[36m(launch_and_fit pid=3708)\u001b[0m Epoch 3: train loss 0.09750702977180481, accuracy 0.2222222222222222\n",
            "\u001b[2m\u001b[36m(launch_and_fit pid=3707)\u001b[0m Epoch 3: train loss 0.10128068178892136, accuracy 0.15555555555555556\n",
            "\u001b[2m\u001b[36m(launch_and_fit pid=3708)\u001b[0m [Client 888, round 1] fit, config: {'server_round': 1, 'local_epochs': 3}\n",
            "\u001b[2m\u001b[36m(launch_and_fit pid=3707)\u001b[0m [Client 443, round 1] fit, config: {'server_round': 1, 'local_epochs': 3}\n",
            "\u001b[2m\u001b[36m(launch_and_fit pid=3708)\u001b[0m Epoch 1: train loss 0.10291405022144318, accuracy 0.08888888888888889\n",
            "\u001b[2m\u001b[36m(launch_and_fit pid=3707)\u001b[0m Epoch 1: train loss 0.10162067413330078, accuracy 0.13333333333333333\n",
            "\u001b[2m\u001b[36m(launch_and_fit pid=3708)\u001b[0m Epoch 2: train loss 0.10201602429151535, accuracy 0.08888888888888889\n",
            "\u001b[2m\u001b[36m(launch_and_fit pid=3707)\u001b[0m Epoch 2: train loss 0.10089287161827087, accuracy 0.15555555555555556\n",
            "\u001b[2m\u001b[36m(launch_and_fit pid=3707)\u001b[0m Epoch 3: train loss 0.10039115697145462, accuracy 0.2222222222222222\n",
            "\u001b[2m\u001b[36m(launch_and_fit pid=3708)\u001b[0m Epoch 3: train loss 0.10154715925455093, accuracy 0.2222222222222222\n",
            "\u001b[2m\u001b[36m(launch_and_fit pid=3708)\u001b[0m [Client 770, round 1] fit, config: {'server_round': 1, 'local_epochs': 3}\n",
            "\u001b[2m\u001b[36m(launch_and_fit pid=3707)\u001b[0m [Client 633, round 1] fit, config: {'server_round': 1, 'local_epochs': 3}\n",
            "\u001b[2m\u001b[36m(launch_and_fit pid=3707)\u001b[0m Epoch 1: train loss 0.10219067335128784, accuracy 0.08888888888888889\n",
            "\u001b[2m\u001b[36m(launch_and_fit pid=3708)\u001b[0m Epoch 1: train loss 0.10285021364688873, accuracy 0.06666666666666667\n",
            "\u001b[2m\u001b[36m(launch_and_fit pid=3707)\u001b[0m Epoch 2: train loss 0.10153072327375412, accuracy 0.08888888888888889\n",
            "\u001b[2m\u001b[36m(launch_and_fit pid=3708)\u001b[0m Epoch 2: train loss 0.10212012380361557, accuracy 0.06666666666666667\n",
            "\u001b[2m\u001b[36m(launch_and_fit pid=3708)\u001b[0m Epoch 3: train loss 0.10116679221391678, accuracy 0.08888888888888889\n",
            "\u001b[2m\u001b[36m(launch_and_fit pid=3707)\u001b[0m Epoch 3: train loss 0.10101938992738724, accuracy 0.2\n",
            "\u001b[2m\u001b[36m(launch_and_fit pid=3708)\u001b[0m [Client 715, round 1] fit, config: {'server_round': 1, 'local_epochs': 3}\n",
            "\u001b[2m\u001b[36m(launch_and_fit pid=3707)\u001b[0m [Client 413, round 1] fit, config: {'server_round': 1, 'local_epochs': 3}\n",
            "\u001b[2m\u001b[36m(launch_and_fit pid=3708)\u001b[0m \n",
            "\u001b[2m\u001b[36m(launch_and_fit pid=3708)\u001b[0m Epoch 1: train loss 0.10118602961301804, accuracy 0.1111111111111111\n",
            "\u001b[2m\u001b[36m(launch_and_fit pid=3707)\u001b[0m Epoch 1: train loss 0.10267526656389236, accuracy 0.06666666666666667\n",
            "\u001b[2m\u001b[36m(launch_and_fit pid=3708)\u001b[0m Epoch 2: train loss 0.10100031644105911, accuracy 0.2\n",
            "\u001b[2m\u001b[36m(launch_and_fit pid=3707)\u001b[0m Epoch 2: train loss 0.10239249467849731, accuracy 0.1111111111111111\n",
            "\u001b[2m\u001b[36m(launch_and_fit pid=3707)\u001b[0m Epoch 3: train loss 0.10106309503316879, accuracy 0.17777777777777778\n",
            "\u001b[2m\u001b[36m(launch_and_fit pid=3708)\u001b[0m Epoch 3: train loss 0.09975985437631607, accuracy 0.2\n",
            "\u001b[2m\u001b[36m(launch_and_fit pid=3707)\u001b[0m [Client 196, round 1] fit, config: {'server_round': 1, 'local_epochs': 3}\n",
            "\u001b[2m\u001b[36m(launch_and_fit pid=3707)\u001b[0m Epoch 1: train loss 0.10216178745031357, accuracy 0.13333333333333333\n",
            "\u001b[2m\u001b[36m(launch_and_fit pid=3707)\u001b[0m Epoch 2: train loss 0.10107484459877014, accuracy 0.13333333333333333\n",
            "\u001b[2m\u001b[36m(launch_and_fit pid=3707)\u001b[0m Epoch 3: train loss 0.1006237268447876, accuracy 0.17777777777777778\n",
            "\u001b[2m\u001b[36m(launch_and_fit pid=3707)\u001b[0m [Client 893, round 1] fit, config: {'server_round': 1, 'local_epochs': 3}\n",
            "\u001b[2m\u001b[36m(launch_and_fit pid=3707)\u001b[0m Epoch 1: train loss 0.10203007608652115, accuracy 0.08888888888888889\n",
            "\u001b[2m\u001b[36m(launch_and_fit pid=3708)\u001b[0m [Client 467, round 1] fit, config: {'server_round': 1, 'local_epochs': 3}\n",
            "\u001b[2m\u001b[36m(launch_and_fit pid=3707)\u001b[0m Epoch 2: train loss 0.10152560472488403, accuracy 0.08888888888888889\n",
            "\u001b[2m\u001b[36m(launch_and_fit pid=3707)\u001b[0m Epoch 3: train loss 0.10144579410552979, accuracy 0.1111111111111111\n",
            "\u001b[2m\u001b[36m(launch_and_fit pid=3708)\u001b[0m Epoch 1: train loss 0.10270961374044418, accuracy 0.08888888888888889\n",
            "\u001b[2m\u001b[36m(launch_and_fit pid=3708)\u001b[0m Epoch 2: train loss 0.10256042331457138, accuracy 0.08888888888888889\n",
            "\u001b[2m\u001b[36m(launch_and_fit pid=3708)\u001b[0m Epoch 3: train loss 0.10199224948883057, accuracy 0.15555555555555556\n",
            "\u001b[2m\u001b[36m(launch_and_fit pid=3707)\u001b[0m [Client 312, round 1] fit, config: {'server_round': 1, 'local_epochs': 3}\n",
            "\u001b[2m\u001b[36m(launch_and_fit pid=3707)\u001b[0m Epoch 1: train loss 0.10223440825939178, accuracy 0.06666666666666667\n",
            "\u001b[2m\u001b[36m(launch_and_fit pid=3707)\u001b[0m Epoch 2: train loss 0.10204339772462845, accuracy 0.1111111111111111\n",
            "\u001b[2m\u001b[36m(launch_and_fit pid=3707)\u001b[0m Epoch 3: train loss 0.10134720057249069, accuracy 0.13333333333333333\n",
            "\u001b[2m\u001b[36m(launch_and_fit pid=3708)\u001b[0m [Client 949, round 1] fit, config: {'server_round': 1, 'local_epochs': 3}\n",
            "\u001b[2m\u001b[36m(launch_and_fit pid=3708)\u001b[0m Epoch 1: train loss 0.10292701423168182, accuracy 0.044444444444444446\n"
          ]
        },
        {
          "output_type": "stream",
          "name": "stderr",
          "text": [
            "DEBUG flwr 2023-04-08 00:47:17,152 | server.py:229 | fit_round 1 received 25 results and 0 failures\n",
            "DEBUG:flwr:fit_round 1 received 25 results and 0 failures\n",
            "WARNING flwr 2023-04-08 00:47:17,320 | fedavg.py:242 | No fit_metrics_aggregation_fn provided\n",
            "WARNING:flwr:No fit_metrics_aggregation_fn provided\n",
            "DEBUG flwr 2023-04-08 00:47:17,328 | server.py:165 | evaluate_round 1: strategy sampled 50 clients (out of 1000)\n",
            "DEBUG:flwr:evaluate_round 1: strategy sampled 50 clients (out of 1000)\n"
          ]
        },
        {
          "output_type": "stream",
          "name": "stdout",
          "text": [
            "\u001b[2m\u001b[36m(launch_and_fit pid=3708)\u001b[0m Epoch 2: train loss 0.10218459367752075, accuracy 0.08888888888888889\n",
            "\u001b[2m\u001b[36m(launch_and_fit pid=3708)\u001b[0m Epoch 3: train loss 0.10193277895450592, accuracy 0.17777777777777778\n"
          ]
        },
        {
          "output_type": "stream",
          "name": "stderr",
          "text": [
            "\u001b[2m\u001b[36m(raylet)\u001b[0m Spilled 3687 MiB, 48 objects, write throughput 229 MiB/s. Set RAY_verbose_spill_logs=0 to disable this message.\n"
          ]
        },
        {
          "output_type": "stream",
          "name": "stdout",
          "text": [
            "\u001b[2m\u001b[36m(launch_and_evaluate pid=3707)\u001b[0m [Client 350] evaluate, config: {}\n"
          ]
        },
        {
          "output_type": "stream",
          "name": "stderr",
          "text": [
            "\u001b[2m\u001b[36m(raylet)\u001b[0m Spilled 4129 MiB, 53 objects, write throughput 215 MiB/s.\n"
          ]
        },
        {
          "output_type": "stream",
          "name": "stdout",
          "text": [
            "\u001b[2m\u001b[36m(launch_and_evaluate pid=3708)\u001b[0m [Client 842] evaluate, config: {}\n",
            "\u001b[2m\u001b[36m(launch_and_evaluate pid=3708)\u001b[0m [Client 734] evaluate, config: {}\n",
            "\u001b[2m\u001b[36m(launch_and_evaluate pid=3707)\u001b[0m [Client 684] evaluate, config: {}\n",
            "\u001b[2m\u001b[36m(launch_and_evaluate pid=3708)\u001b[0m [Client 740] evaluate, config: {}\n",
            "\u001b[2m\u001b[36m(launch_and_evaluate pid=3707)\u001b[0m [Client 925] evaluate, config: {}\n",
            "\u001b[2m\u001b[36m(launch_and_evaluate pid=3707)\u001b[0m [Client 348] evaluate, config: {}\n",
            "\u001b[2m\u001b[36m(launch_and_evaluate pid=3707)\u001b[0m \n",
            "\u001b[2m\u001b[36m(launch_and_evaluate pid=3708)\u001b[0m [Client 846] evaluate, config: {}\n",
            "\u001b[2m\u001b[36m(launch_and_evaluate pid=3707)\u001b[0m [Client 104] evaluate, config: {}\n",
            "\u001b[2m\u001b[36m(launch_and_evaluate pid=3708)\u001b[0m [Client 559] evaluate, config: {}\n",
            "\u001b[2m\u001b[36m(launch_and_evaluate pid=3707)\u001b[0m [Client 137] evaluate, config: {}\n",
            "\u001b[2m\u001b[36m(launch_and_evaluate pid=3708)\u001b[0m [Client 431] evaluate, config: {}\n",
            "\u001b[2m\u001b[36m(launch_and_evaluate pid=3708)\u001b[0m [Client 759] evaluate, config: {}\n",
            "\u001b[2m\u001b[36m(launch_and_evaluate pid=3707)\u001b[0m [Client 743] evaluate, config: {}\n",
            "\u001b[2m\u001b[36m(launch_and_evaluate pid=3708)\u001b[0m [Client 635] evaluate, config: {}\n",
            "\u001b[2m\u001b[36m(launch_and_evaluate pid=3708)\u001b[0m [Client 529] evaluate, config: {}\n",
            "\u001b[2m\u001b[36m(launch_and_evaluate pid=3708)\u001b[0m [Client 239] evaluate, config: {}\n",
            "\u001b[2m\u001b[36m(launch_and_evaluate pid=3707)\u001b[0m [Client 773] evaluate, config: {}\n",
            "\u001b[2m\u001b[36m(launch_and_evaluate pid=3708)\u001b[0m [Client 698] evaluate, config: {}\n",
            "\u001b[2m\u001b[36m(launch_and_evaluate pid=3707)\u001b[0m [Client 653] evaluate, config: {}\n",
            "\u001b[2m\u001b[36m(launch_and_evaluate pid=3708)\u001b[0m [Client 606] evaluate, config: {}\n",
            "\u001b[2m\u001b[36m(launch_and_evaluate pid=3707)\u001b[0m [Client 262] evaluate, config: {}\n",
            "\u001b[2m\u001b[36m(launch_and_evaluate pid=3708)\u001b[0m [Client 31] evaluate, config: {}\n",
            "\u001b[2m\u001b[36m(launch_and_evaluate pid=3707)\u001b[0m [Client 677] evaluate, config: {}\n",
            "\u001b[2m\u001b[36m(launch_and_evaluate pid=3708)\u001b[0m [Client 581] evaluate, config: {}\n",
            "\u001b[2m\u001b[36m(launch_and_evaluate pid=3707)\u001b[0m [Client 160] evaluate, config: {}\n",
            "\u001b[2m\u001b[36m(launch_and_evaluate pid=3708)\u001b[0m [Client 179] evaluate, config: {}\n",
            "\u001b[2m\u001b[36m(launch_and_evaluate pid=3707)\u001b[0m [Client 11] evaluate, config: {}\n",
            "\u001b[2m\u001b[36m(launch_and_evaluate pid=3707)\u001b[0m [Client 254] evaluate, config: {}\n",
            "\u001b[2m\u001b[36m(launch_and_evaluate pid=3707)\u001b[0m \n",
            "\u001b[2m\u001b[36m(launch_and_evaluate pid=3708)\u001b[0m [Client 511] evaluate, config: {}\n",
            "\u001b[2m\u001b[36m(launch_and_evaluate pid=3708)\u001b[0m [Client 524] evaluate, config: {}\n",
            "\u001b[2m\u001b[36m(launch_and_evaluate pid=3707)\u001b[0m [Client 728] evaluate, config: {}\n",
            "\u001b[2m\u001b[36m(launch_and_evaluate pid=3707)\u001b[0m [Client 73] evaluate, config: {}\n",
            "\u001b[2m\u001b[36m(launch_and_evaluate pid=3708)\u001b[0m [Client 462] evaluate, config: {}\n",
            "\u001b[2m\u001b[36m(launch_and_evaluate pid=3708)\u001b[0m [Client 621] evaluate, config: {}\n",
            "\u001b[2m\u001b[36m(launch_and_evaluate pid=3707)\u001b[0m [Client 487] evaluate, config: {}\n"
          ]
        },
        {
          "output_type": "stream",
          "name": "stderr",
          "text": [
            "\u001b[2m\u001b[36m(raylet)\u001b[0m Spilled 8256 MiB, 93 objects, write throughput 220 MiB/s.\n"
          ]
        },
        {
          "output_type": "stream",
          "name": "stdout",
          "text": [
            "\u001b[2m\u001b[36m(launch_and_evaluate pid=3707)\u001b[0m [Client 107] evaluate, config: {}\n",
            "\u001b[2m\u001b[36m(launch_and_evaluate pid=3708)\u001b[0m [Client 739] evaluate, config: {}\n",
            "\u001b[2m\u001b[36m(launch_and_evaluate pid=3707)\u001b[0m [Client 619] evaluate, config: {}\n",
            "\u001b[2m\u001b[36m(launch_and_evaluate pid=3708)\u001b[0m [Client 916] evaluate, config: {}\n",
            "\u001b[2m\u001b[36m(launch_and_evaluate pid=3708)\u001b[0m [Client 44] evaluate, config: {}\n",
            "\u001b[2m\u001b[36m(launch_and_evaluate pid=3707)\u001b[0m [Client 896] evaluate, config: {}\n",
            "\u001b[2m\u001b[36m(launch_and_evaluate pid=3708)\u001b[0m [Client 721] evaluate, config: {}\n",
            "\u001b[2m\u001b[36m(launch_and_evaluate pid=3707)\u001b[0m [Client 110] evaluate, config: {}\n",
            "\u001b[2m\u001b[36m(launch_and_evaluate pid=3707)\u001b[0m [Client 639] evaluate, config: {}\n",
            "\u001b[2m\u001b[36m(launch_and_evaluate pid=3708)\u001b[0m [Client 802] evaluate, config: {}\n",
            "\u001b[2m\u001b[36m(launch_and_evaluate pid=3708)\u001b[0m [Client 868] evaluate, config: {}\n",
            "\u001b[2m\u001b[36m(launch_and_evaluate pid=3707)\u001b[0m [Client 56] evaluate, config: {}\n"
          ]
        },
        {
          "output_type": "stream",
          "name": "stderr",
          "text": [
            "DEBUG flwr 2023-04-08 00:48:49,012 | server.py:179 | evaluate_round 1 received 50 results and 0 failures\n",
            "DEBUG:flwr:evaluate_round 1 received 50 results and 0 failures\n",
            "WARNING flwr 2023-04-08 00:48:49,026 | fedavg.py:273 | No evaluate_metrics_aggregation_fn provided\n",
            "WARNING:flwr:No evaluate_metrics_aggregation_fn provided\n",
            "DEBUG flwr 2023-04-08 00:48:49,036 | server.py:215 | fit_round 2: strategy sampled 25 clients (out of 1000)\n",
            "DEBUG:flwr:fit_round 2: strategy sampled 25 clients (out of 1000)\n"
          ]
        },
        {
          "output_type": "stream",
          "name": "stdout",
          "text": [
            "\u001b[2m\u001b[36m(launch_and_evaluate pid=3708)\u001b[0m [Client 592] evaluate, config: {}\n",
            "\u001b[2m\u001b[36m(launch_and_evaluate pid=3707)\u001b[0m [Client 627] evaluate, config: {}\n",
            "\u001b[2m\u001b[36m(launch_and_fit pid=3708)\u001b[0m [Client 619, round 2] fit, config: {'server_round': 2, 'local_epochs': 3}\n",
            "\u001b[2m\u001b[36m(launch_and_fit pid=3708)\u001b[0m Epoch 1: train loss 0.10228551924228668, accuracy 0.1111111111111111\n",
            "\u001b[2m\u001b[36m(launch_and_fit pid=3707)\u001b[0m [Client 0, round 2] fit, config: {'server_round': 2, 'local_epochs': 3}\n",
            "\u001b[2m\u001b[36m(launch_and_fit pid=3708)\u001b[0m Epoch 2: train loss 0.10175559669733047, accuracy 0.15555555555555556\n",
            "\u001b[2m\u001b[36m(launch_and_fit pid=3707)\u001b[0m Epoch 1: train loss 0.10227157920598984, accuracy 0.06666666666666667\n",
            "\u001b[2m\u001b[36m(launch_and_fit pid=3707)\u001b[0m Epoch 2: train loss 0.10151833295822144, accuracy 0.13333333333333333\n",
            "\u001b[2m\u001b[36m(launch_and_fit pid=3707)\u001b[0m Epoch 3: train loss 0.10044357180595398, accuracy 0.13333333333333333\n",
            "\u001b[2m\u001b[36m(launch_and_fit pid=3708)\u001b[0m Epoch 3: train loss 0.10015609860420227, accuracy 0.15555555555555556\n",
            "\u001b[2m\u001b[36m(launch_and_fit pid=3708)\u001b[0m [Client 25, round 2] fit, config: {'server_round': 2, 'local_epochs': 3}\n",
            "\u001b[2m\u001b[36m(launch_and_fit pid=3708)\u001b[0m Epoch 1: train loss 0.10237392783164978, accuracy 0.08888888888888889\n",
            "\u001b[2m\u001b[36m(launch_and_fit pid=3707)\u001b[0m [Client 183, round 2] fit, config: {'server_round': 2, 'local_epochs': 3}\n",
            "\u001b[2m\u001b[36m(launch_and_fit pid=3708)\u001b[0m Epoch 2: train loss 0.10117305815219879, accuracy 0.2\n",
            "\u001b[2m\u001b[36m(launch_and_fit pid=3707)\u001b[0m Epoch 1: train loss 0.1019829511642456, accuracy 0.13333333333333333\n",
            "\u001b[2m\u001b[36m(launch_and_fit pid=3707)\u001b[0m Epoch 2: train loss 0.10094878822565079, accuracy 0.13333333333333333\n",
            "\u001b[2m\u001b[36m(launch_and_fit pid=3708)\u001b[0m Epoch 3: train loss 0.10153158754110336, accuracy 0.17777777777777778\n",
            "\u001b[2m\u001b[36m(launch_and_fit pid=3707)\u001b[0m Epoch 3: train loss 0.10057050734758377, accuracy 0.13333333333333333\n",
            "\u001b[2m\u001b[36m(launch_and_fit pid=3707)\u001b[0m [Client 543, round 2] fit, config: {'server_round': 2, 'local_epochs': 3}\n",
            "\u001b[2m\u001b[36m(launch_and_fit pid=3707)\u001b[0m Epoch 1: train loss 0.10200980305671692, accuracy 0.044444444444444446\n",
            "\u001b[2m\u001b[36m(launch_and_fit pid=3707)\u001b[0m Epoch 2: train loss 0.10117771476507187, accuracy 0.3111111111111111\n",
            "\u001b[2m\u001b[36m(launch_and_fit pid=3708)\u001b[0m [Client 71, round 2] fit, config: {'server_round': 2, 'local_epochs': 3}\n",
            "\u001b[2m\u001b[36m(launch_and_fit pid=3708)\u001b[0m Epoch 1: train loss 0.10262182354927063, accuracy 0.15555555555555556\n",
            "\u001b[2m\u001b[36m(launch_and_fit pid=3707)\u001b[0m Epoch 3: train loss 0.09971388429403305, accuracy 0.4\n",
            "\u001b[2m\u001b[36m(launch_and_fit pid=3708)\u001b[0m Epoch 2: train loss 0.10092789679765701, accuracy 0.2222222222222222\n",
            "\u001b[2m\u001b[36m(launch_and_fit pid=3708)\u001b[0m Epoch 3: train loss 0.10032684355974197, accuracy 0.2222222222222222\n",
            "\u001b[2m\u001b[36m(launch_and_fit pid=3708)\u001b[0m [Client 70, round 2] fit, config: {'server_round': 2, 'local_epochs': 3}\n",
            "\u001b[2m\u001b[36m(launch_and_fit pid=3707)\u001b[0m [Client 383, round 2] fit, config: {'server_round': 2, 'local_epochs': 3}\n",
            "\u001b[2m\u001b[36m(launch_and_fit pid=3708)\u001b[0m Epoch 1: train loss 0.10138928890228271, accuracy 0.2222222222222222\n",
            "\u001b[2m\u001b[36m(launch_and_fit pid=3707)\u001b[0m Epoch 1: train loss 0.10197128355503082, accuracy 0.17777777777777778\n",
            "\u001b[2m\u001b[36m(launch_and_fit pid=3708)\u001b[0m Epoch 2: train loss 0.10083075612783432, accuracy 0.24444444444444444\n",
            "\u001b[2m\u001b[36m(launch_and_fit pid=3707)\u001b[0m Epoch 2: train loss 0.1007486879825592, accuracy 0.15555555555555556\n",
            "\u001b[2m\u001b[36m(launch_and_fit pid=3707)\u001b[0m Epoch 3: train loss 0.10018081963062286, accuracy 0.17777777777777778\n",
            "\u001b[2m\u001b[36m(launch_and_fit pid=3708)\u001b[0m Epoch 3: train loss 0.10017530620098114, accuracy 0.24444444444444444\n",
            "\u001b[2m\u001b[36m(launch_and_fit pid=3708)\u001b[0m [Client 734, round 2] fit, config: {'server_round': 2, 'local_epochs': 3}\n",
            "\u001b[2m\u001b[36m(launch_and_fit pid=3708)\u001b[0m Epoch 1: train loss 0.10236691683530807, accuracy 0.15555555555555556\n",
            "\u001b[2m\u001b[36m(launch_and_fit pid=3708)\u001b[0m Epoch 2: train loss 0.10154249519109726, accuracy 0.15555555555555556\n",
            "\u001b[2m\u001b[36m(launch_and_fit pid=3707)\u001b[0m [Client 536, round 2] fit, config: {'server_round': 2, 'local_epochs': 3}\n",
            "\u001b[2m\u001b[36m(launch_and_fit pid=3708)\u001b[0m Epoch 3: train loss 0.1004413589835167, accuracy 0.24444444444444444\n",
            "\u001b[2m\u001b[36m(launch_and_fit pid=3707)\u001b[0m Epoch 1: train loss 0.10150480270385742, accuracy 0.28888888888888886\n",
            "\u001b[2m\u001b[36m(launch_and_fit pid=3707)\u001b[0m Epoch 2: train loss 0.09972687065601349, accuracy 0.28888888888888886\n",
            "\u001b[2m\u001b[36m(launch_and_fit pid=3707)\u001b[0m Epoch 3: train loss 0.09836097061634064, accuracy 0.3111111111111111\n",
            "\u001b[2m\u001b[36m(launch_and_fit pid=3708)\u001b[0m [Client 909, round 2] fit, config: {'server_round': 2, 'local_epochs': 3}\n",
            "\u001b[2m\u001b[36m(launch_and_fit pid=3708)\u001b[0m Epoch 1: train loss 0.1035209372639656, accuracy 0.022222222222222223\n",
            "\u001b[2m\u001b[36m(launch_and_fit pid=3708)\u001b[0m Epoch 2: train loss 0.10226795077323914, accuracy 0.15555555555555556\n",
            "\u001b[2m\u001b[36m(launch_and_fit pid=3708)\u001b[0m Epoch 3: train loss 0.10188744962215424, accuracy 0.2\n",
            "\u001b[2m\u001b[36m(launch_and_fit pid=3707)\u001b[0m [Client 251, round 2] fit, config: {'server_round': 2, 'local_epochs': 3}\n",
            "\u001b[2m\u001b[36m(launch_and_fit pid=3707)\u001b[0m Epoch 1: train loss 0.10233315080404282, accuracy 0.13333333333333333\n",
            "\u001b[2m\u001b[36m(launch_and_fit pid=3707)\u001b[0m Epoch 2: train loss 0.10169824212789536, accuracy 0.15555555555555556\n",
            "\u001b[2m\u001b[36m(launch_and_fit pid=3707)\u001b[0m Epoch 3: train loss 0.10084854066371918, accuracy 0.13333333333333333\n",
            "\u001b[2m\u001b[36m(launch_and_fit pid=3707)\u001b[0m [Client 736, round 2] fit, config: {'server_round': 2, 'local_epochs': 3}\n",
            "\u001b[2m\u001b[36m(launch_and_fit pid=3708)\u001b[0m [Client 170, round 2] fit, config: {'server_round': 2, 'local_epochs': 3}\n",
            "\u001b[2m\u001b[36m(launch_and_fit pid=3707)\u001b[0m Epoch 1: train loss 0.10236608982086182, accuracy 0.2222222222222222\n",
            "\u001b[2m\u001b[36m(launch_and_fit pid=3708)\u001b[0m Epoch 1: train loss 0.10169463604688644, accuracy 0.1111111111111111\n",
            "\u001b[2m\u001b[36m(launch_and_fit pid=3708)\u001b[0m Epoch 2: train loss 0.10050491988658905, accuracy 0.17777777777777778\n",
            "\u001b[2m\u001b[36m(launch_and_fit pid=3708)\u001b[0m Epoch 3: train loss 0.0989750549197197, accuracy 0.2222222222222222\n",
            "\u001b[2m\u001b[36m(launch_and_fit pid=3707)\u001b[0m Epoch 2: train loss 0.10041041672229767, accuracy 0.2222222222222222\n",
            "\u001b[2m\u001b[36m(launch_and_fit pid=3707)\u001b[0m Epoch 3: train loss 0.09910359978675842, accuracy 0.2\n",
            "\u001b[2m\u001b[36m(launch_and_fit pid=3707)\u001b[0m [Client 764, round 2] fit, config: {'server_round': 2, 'local_epochs': 3}\n",
            "\u001b[2m\u001b[36m(launch_and_fit pid=3708)\u001b[0m [Client 811, round 2] fit, config: {'server_round': 2, 'local_epochs': 3}\n",
            "\u001b[2m\u001b[36m(launch_and_fit pid=3708)\u001b[0m Epoch 1: train loss 0.10209009051322937, accuracy 0.13333333333333333\n",
            "\u001b[2m\u001b[36m(launch_and_fit pid=3707)\u001b[0m Epoch 1: train loss 0.1034550741314888, accuracy 0.1111111111111111\n",
            "\u001b[2m\u001b[36m(launch_and_fit pid=3708)\u001b[0m Epoch 2: train loss 0.10115630179643631, accuracy 0.15555555555555556\n",
            "\u001b[2m\u001b[36m(launch_and_fit pid=3707)\u001b[0m Epoch 2: train loss 0.101808100938797, accuracy 0.1111111111111111\n",
            "\u001b[2m\u001b[36m(launch_and_fit pid=3708)\u001b[0m Epoch 3: train loss 0.09986400604248047, accuracy 0.13333333333333333\n",
            "\u001b[2m\u001b[36m(launch_and_fit pid=3707)\u001b[0m Epoch 3: train loss 0.09985014796257019, accuracy 0.1111111111111111\n",
            "\u001b[2m\u001b[36m(launch_and_fit pid=3708)\u001b[0m [Client 320, round 2] fit, config: {'server_round': 2, 'local_epochs': 3}\n",
            "\u001b[2m\u001b[36m(launch_and_fit pid=3708)\u001b[0m Epoch 1: train loss 0.10229240357875824, accuracy 0.17777777777777778\n",
            "\u001b[2m\u001b[36m(launch_and_fit pid=3708)\u001b[0m Epoch 2: train loss 0.1015106588602066, accuracy 0.2222222222222222\n",
            "\u001b[2m\u001b[36m(launch_and_fit pid=3707)\u001b[0m [Client 468, round 2] fit, config: {'server_round': 2, 'local_epochs': 3}\n",
            "\u001b[2m\u001b[36m(launch_and_fit pid=3708)\u001b[0m Epoch 3: train loss 0.10095814615488052, accuracy 0.24444444444444444\n",
            "\u001b[2m\u001b[36m(launch_and_fit pid=3707)\u001b[0m Epoch 1: train loss 0.10370844602584839, accuracy 0.044444444444444446\n",
            "\u001b[2m\u001b[36m(launch_and_fit pid=3707)\u001b[0m Epoch 2: train loss 0.10241531580686569, accuracy 0.06666666666666667\n",
            "\u001b[2m\u001b[36m(launch_and_fit pid=3707)\u001b[0m Epoch 3: train loss 0.10067388415336609, accuracy 0.35555555555555557\n",
            "\u001b[2m\u001b[36m(launch_and_fit pid=3707)\u001b[0m [Client 159, round 2] fit, config: {'server_round': 2, 'local_epochs': 3}\n",
            "\u001b[2m\u001b[36m(launch_and_fit pid=3708)\u001b[0m [Client 464, round 2] fit, config: {'server_round': 2, 'local_epochs': 3}\n",
            "\u001b[2m\u001b[36m(launch_and_fit pid=3707)\u001b[0m Epoch 1: train loss 0.10269440710544586, accuracy 0.08888888888888889\n",
            "\u001b[2m\u001b[36m(launch_and_fit pid=3707)\u001b[0m Epoch 2: train loss 0.10191188752651215, accuracy 0.17777777777777778\n",
            "\u001b[2m\u001b[36m(launch_and_fit pid=3708)\u001b[0m Epoch 1: train loss 0.10206149518489838, accuracy 0.15555555555555556\n",
            "\u001b[2m\u001b[36m(launch_and_fit pid=3707)\u001b[0m Epoch 3: train loss 0.10057449340820312, accuracy 0.3333333333333333\n",
            "\u001b[2m\u001b[36m(launch_and_fit pid=3708)\u001b[0m Epoch 2: train loss 0.1010468602180481, accuracy 0.17777777777777778\n",
            "\u001b[2m\u001b[36m(launch_and_fit pid=3708)\u001b[0m Epoch 3: train loss 0.0990510955452919, accuracy 0.17777777777777778\n",
            "\u001b[2m\u001b[36m(launch_and_fit pid=3707)\u001b[0m [Client 497, round 2] fit, config: {'server_round': 2, 'local_epochs': 3}\n",
            "\u001b[2m\u001b[36m(launch_and_fit pid=3707)\u001b[0m Epoch 1: train loss 0.10255928337574005, accuracy 0.1111111111111111\n",
            "\u001b[2m\u001b[36m(launch_and_fit pid=3707)\u001b[0m Epoch 2: train loss 0.10139530897140503, accuracy 0.17777777777777778\n",
            "\u001b[2m\u001b[36m(launch_and_fit pid=3707)\u001b[0m Epoch 3: train loss 0.10062018781900406, accuracy 0.15555555555555556\n",
            "\u001b[2m\u001b[36m(launch_and_fit pid=3707)\u001b[0m [Client 381, round 2] fit, config: {'server_round': 2, 'local_epochs': 3}\n",
            "\u001b[2m\u001b[36m(launch_and_fit pid=3708)\u001b[0m [Client 236, round 2] fit, config: {'server_round': 2, 'local_epochs': 3}\n",
            "\u001b[2m\u001b[36m(launch_and_fit pid=3708)\u001b[0m Epoch 1: train loss 0.10227396339178085, accuracy 0.13333333333333333\n",
            "\u001b[2m\u001b[36m(launch_and_fit pid=3708)\u001b[0m Epoch 2: train loss 0.1015206053853035, accuracy 0.2\n",
            "\u001b[2m\u001b[36m(launch_and_fit pid=3707)\u001b[0m Epoch 1: train loss 0.10167234390974045, accuracy 0.1111111111111111\n",
            "\u001b[2m\u001b[36m(launch_and_fit pid=3708)\u001b[0m Epoch 3: train loss 0.10053949058055878, accuracy 0.3333333333333333\n",
            "\u001b[2m\u001b[36m(launch_and_fit pid=3708)\u001b[0m [Client 305, round 2] fit, config: {'server_round': 2, 'local_epochs': 3}\n",
            "\u001b[2m\u001b[36m(launch_and_fit pid=3707)\u001b[0m Epoch 2: train loss 0.1001271978020668, accuracy 0.2\n",
            "\u001b[2m\u001b[36m(launch_and_fit pid=3708)\u001b[0m Epoch 1: train loss 0.10192517191171646, accuracy 0.15555555555555556\n",
            "\u001b[2m\u001b[36m(launch_and_fit pid=3708)\u001b[0m Epoch 2: train loss 0.10107932984828949, accuracy 0.2222222222222222\n",
            "\u001b[2m\u001b[36m(launch_and_fit pid=3708)\u001b[0m Epoch 3: train loss 0.10076488554477692, accuracy 0.28888888888888886\n",
            "\u001b[2m\u001b[36m(launch_and_fit pid=3707)\u001b[0m Epoch 3: train loss 0.09914189577102661, accuracy 0.2\n"
          ]
        },
        {
          "output_type": "stream",
          "name": "stderr",
          "text": [
            "DEBUG flwr 2023-04-08 00:49:36,142 | server.py:229 | fit_round 2 received 25 results and 0 failures\n",
            "DEBUG:flwr:fit_round 2 received 25 results and 0 failures\n",
            "DEBUG flwr 2023-04-08 00:49:36,216 | server.py:165 | evaluate_round 2: strategy sampled 50 clients (out of 1000)\n",
            "DEBUG:flwr:evaluate_round 2: strategy sampled 50 clients (out of 1000)\n"
          ]
        },
        {
          "output_type": "stream",
          "name": "stdout",
          "text": [
            "\u001b[2m\u001b[36m(launch_and_fit pid=3707)\u001b[0m [Client 95, round 2] fit, config: {'server_round': 2, 'local_epochs': 3}\n",
            "\u001b[2m\u001b[36m(launch_and_fit pid=3707)\u001b[0m Epoch 1: train loss 0.10241846740245819, accuracy 0.06666666666666667\n",
            "\u001b[2m\u001b[36m(launch_and_fit pid=3707)\u001b[0m Epoch 2: train loss 0.10184536129236221, accuracy 0.13333333333333333\n",
            "\u001b[2m\u001b[36m(launch_and_fit pid=3707)\u001b[0m Epoch 3: train loss 0.10082709789276123, accuracy 0.13333333333333333\n",
            "\u001b[2m\u001b[36m(launch_and_evaluate pid=3707)\u001b[0m [Client 581] evaluate, config: {}\n",
            "\u001b[2m\u001b[36m(launch_and_evaluate pid=3708)\u001b[0m [Client 975] evaluate, config: {}\n",
            "\u001b[2m\u001b[36m(launch_and_evaluate pid=3707)\u001b[0m [Client 796] evaluate, config: {}\n",
            "\u001b[2m\u001b[36m(launch_and_evaluate pid=3708)\u001b[0m [Client 890] evaluate, config: {}\n",
            "\u001b[2m\u001b[36m(launch_and_evaluate pid=3708)\u001b[0m [Client 701] evaluate, config: {}\n",
            "\u001b[2m\u001b[36m(launch_and_evaluate pid=3707)\u001b[0m [Client 880] evaluate, config: {}\n",
            "\u001b[2m\u001b[36m(launch_and_evaluate pid=3707)\u001b[0m [Client 354] evaluate, config: {}\n",
            "\u001b[2m\u001b[36m(launch_and_evaluate pid=3708)\u001b[0m [Client 897] evaluate, config: {}\n",
            "\u001b[2m\u001b[36m(launch_and_evaluate pid=3707)\u001b[0m [Client 519] evaluate, config: {}\n",
            "\u001b[2m\u001b[36m(launch_and_evaluate pid=3708)\u001b[0m [Client 64] evaluate, config: {}\n",
            "\u001b[2m\u001b[36m(launch_and_evaluate pid=3708)\u001b[0m [Client 347] evaluate, config: {}\n",
            "\u001b[2m\u001b[36m(launch_and_evaluate pid=3707)\u001b[0m [Client 961] evaluate, config: {}\n",
            "\u001b[2m\u001b[36m(launch_and_evaluate pid=3707)\u001b[0m [Client 398] evaluate, config: {}\n",
            "\u001b[2m\u001b[36m(launch_and_evaluate pid=3707)\u001b[0m [Client 425] evaluate, config: {}\n",
            "\u001b[2m\u001b[36m(launch_and_evaluate pid=3708)\u001b[0m [Client 433] evaluate, config: {}\n",
            "\u001b[2m\u001b[36m(launch_and_evaluate pid=3707)\u001b[0m [Client 759] evaluate, config: {}\n",
            "\u001b[2m\u001b[36m(launch_and_evaluate pid=3708)\u001b[0m [Client 315] evaluate, config: {}\n",
            "\u001b[2m\u001b[36m(launch_and_evaluate pid=3707)\u001b[0m [Client 357] evaluate, config: {}\n",
            "\u001b[2m\u001b[36m(launch_and_evaluate pid=3708)\u001b[0m [Client 604] evaluate, config: {}\n",
            "\u001b[2m\u001b[36m(launch_and_evaluate pid=3708)\u001b[0m [Client 442] evaluate, config: {}\n",
            "\u001b[2m\u001b[36m(launch_and_evaluate pid=3707)\u001b[0m [Client 473] evaluate, config: {}\n",
            "\u001b[2m\u001b[36m(launch_and_evaluate pid=3707)\u001b[0m [Client 895] evaluate, config: {}\n",
            "\u001b[2m\u001b[36m(launch_and_evaluate pid=3707)\u001b[0m [Client 181] evaluate, config: {}\n",
            "\u001b[2m\u001b[36m(launch_and_evaluate pid=3708)\u001b[0m [Client 534] evaluate, config: {}\n",
            "\u001b[2m\u001b[36m(launch_and_evaluate pid=3708)\u001b[0m [Client 622] evaluate, config: {}\n",
            "\u001b[2m\u001b[36m(launch_and_evaluate pid=3708)\u001b[0m [Client 78] evaluate, config: {}\n",
            "\u001b[2m\u001b[36m(launch_and_evaluate pid=3707)\u001b[0m [Client 816] evaluate, config: {}\n",
            "\u001b[2m\u001b[36m(launch_and_evaluate pid=3707)\u001b[0m [Client 851] evaluate, config: {}\n",
            "\u001b[2m\u001b[36m(launch_and_evaluate pid=3708)\u001b[0m [Client 689] evaluate, config: {}\n",
            "\u001b[2m\u001b[36m(launch_and_evaluate pid=3707)\u001b[0m [Client 866] evaluate, config: {}\n",
            "\u001b[2m\u001b[36m(launch_and_evaluate pid=3708)\u001b[0m [Client 690] evaluate, config: {}\n",
            "\u001b[2m\u001b[36m(launch_and_evaluate pid=3708)\u001b[0m [Client 196] evaluate, config: {}\n",
            "\u001b[2m\u001b[36m(launch_and_evaluate pid=3707)\u001b[0m [Client 238] evaluate, config: {}\n",
            "\u001b[2m\u001b[36m(launch_and_evaluate pid=3707)\u001b[0m [Client 778] evaluate, config: {}\n",
            "\u001b[2m\u001b[36m(launch_and_evaluate pid=3708)\u001b[0m [Client 666] evaluate, config: {}\n",
            "\u001b[2m\u001b[36m(launch_and_evaluate pid=3707)\u001b[0m [Client 33] evaluate, config: {}\n",
            "\u001b[2m\u001b[36m(launch_and_evaluate pid=3708)\u001b[0m [Client 681] evaluate, config: {}\n",
            "\u001b[2m\u001b[36m(launch_and_evaluate pid=3708)\u001b[0m [Client 304] evaluate, config: {}\n",
            "\u001b[2m\u001b[36m(launch_and_evaluate pid=3707)\u001b[0m [Client 341] evaluate, config: {}\n",
            "\u001b[2m\u001b[36m(launch_and_evaluate pid=3708)\u001b[0m [Client 381] evaluate, config: {}\n",
            "\u001b[2m\u001b[36m(launch_and_evaluate pid=3708)\u001b[0m [Client 662] evaluate, config: {}\n",
            "\u001b[2m\u001b[36m(launch_and_evaluate pid=3707)\u001b[0m [Client 675] evaluate, config: {}\n",
            "\u001b[2m\u001b[36m(launch_and_evaluate pid=3707)\u001b[0m [Client 782] evaluate, config: {}\n",
            "\u001b[2m\u001b[36m(launch_and_evaluate pid=3707)\u001b[0m [Client 855] evaluate, config: {}\n",
            "\u001b[2m\u001b[36m(launch_and_evaluate pid=3708)\u001b[0m [Client 426] evaluate, config: {}\n",
            "\u001b[2m\u001b[36m(launch_and_evaluate pid=3708)\u001b[0m [Client 836] evaluate, config: {}\n",
            "\u001b[2m\u001b[36m(launch_and_evaluate pid=3708)\u001b[0m [Client 475] evaluate, config: {}\n",
            "\u001b[2m\u001b[36m(launch_and_evaluate pid=3707)\u001b[0m [Client 621] evaluate, config: {}\n"
          ]
        },
        {
          "output_type": "stream",
          "name": "stderr",
          "text": [
            "DEBUG flwr 2023-04-08 00:50:46,743 | server.py:179 | evaluate_round 2 received 50 results and 0 failures\n",
            "DEBUG:flwr:evaluate_round 2 received 50 results and 0 failures\n",
            "DEBUG flwr 2023-04-08 00:50:46,748 | server.py:215 | fit_round 3: strategy sampled 25 clients (out of 1000)\n",
            "DEBUG:flwr:fit_round 3: strategy sampled 25 clients (out of 1000)\n"
          ]
        },
        {
          "output_type": "stream",
          "name": "stdout",
          "text": [
            "\u001b[2m\u001b[36m(launch_and_evaluate pid=3707)\u001b[0m [Client 557] evaluate, config: {}\n",
            "\u001b[2m\u001b[36m(launch_and_evaluate pid=3708)\u001b[0m [Client 93] evaluate, config: {}\n",
            "\u001b[2m\u001b[36m(launch_and_fit pid=3708)\u001b[0m [Client 996, round 3] fit, config: {'server_round': 3, 'local_epochs': 3}\n",
            "\u001b[2m\u001b[36m(launch_and_fit pid=3707)\u001b[0m [Client 209, round 3] fit, config: {'server_round': 3, 'local_epochs': 3}\n",
            "\u001b[2m\u001b[36m(launch_and_fit pid=3708)\u001b[0m Epoch 1: train loss 0.10179494321346283, accuracy 0.1111111111111111\n",
            "\u001b[2m\u001b[36m(launch_and_fit pid=3708)\u001b[0m Epoch 2: train loss 0.10000316053628922, accuracy 0.15555555555555556\n",
            "\u001b[2m\u001b[36m(launch_and_fit pid=3707)\u001b[0m Epoch 1: train loss 0.10099326074123383, accuracy 0.2\n",
            "\u001b[2m\u001b[36m(launch_and_fit pid=3707)\u001b[0m Epoch 2: train loss 0.09726890176534653, accuracy 0.17777777777777778\n",
            "\u001b[2m\u001b[36m(launch_and_fit pid=3708)\u001b[0m Epoch 3: train loss 0.09946843981742859, accuracy 0.24444444444444444\n",
            "\u001b[2m\u001b[36m(launch_and_fit pid=3707)\u001b[0m Epoch 3: train loss 0.09899887442588806, accuracy 0.17777777777777778\n",
            "\u001b[2m\u001b[36m(launch_and_fit pid=3708)\u001b[0m [Client 405, round 3] fit, config: {'server_round': 3, 'local_epochs': 3}\n",
            "\u001b[2m\u001b[36m(launch_and_fit pid=3708)\u001b[0m Epoch 1: train loss 0.1011653020977974, accuracy 0.26666666666666666\n",
            "\u001b[2m\u001b[36m(launch_and_fit pid=3708)\u001b[0m Epoch 2: train loss 0.09852751344442368, accuracy 0.2\n",
            "\u001b[2m\u001b[36m(launch_and_fit pid=3708)\u001b[0m Epoch 3: train loss 0.09656734764575958, accuracy 0.2\n",
            "\u001b[2m\u001b[36m(launch_and_fit pid=3707)\u001b[0m [Client 590, round 3] fit, config: {'server_round': 3, 'local_epochs': 3}\n",
            "\u001b[2m\u001b[36m(launch_and_fit pid=3707)\u001b[0m Epoch 1: train loss 0.10200460255146027, accuracy 0.15555555555555556\n",
            "\u001b[2m\u001b[36m(launch_and_fit pid=3707)\u001b[0m Epoch 2: train loss 0.10060327500104904, accuracy 0.15555555555555556\n",
            "\u001b[2m\u001b[36m(launch_and_fit pid=3707)\u001b[0m Epoch 3: train loss 0.09756045788526535, accuracy 0.15555555555555556\n",
            "\u001b[2m\u001b[36m(launch_and_fit pid=3708)\u001b[0m [Client 714, round 3] fit, config: {'server_round': 3, 'local_epochs': 3}\n",
            "\u001b[2m\u001b[36m(launch_and_fit pid=3707)\u001b[0m [Client 861, round 3] fit, config: {'server_round': 3, 'local_epochs': 3}\n",
            "\u001b[2m\u001b[36m(launch_and_fit pid=3708)\u001b[0m Epoch 1: train loss 0.10153045505285263, accuracy 0.15555555555555556\n",
            "\u001b[2m\u001b[36m(launch_and_fit pid=3707)\u001b[0m Epoch 1: train loss 0.10244249552488327, accuracy 0.1111111111111111\n",
            "\u001b[2m\u001b[36m(launch_and_fit pid=3708)\u001b[0m Epoch 2: train loss 0.09929516911506653, accuracy 0.13333333333333333\n",
            "\u001b[2m\u001b[36m(launch_and_fit pid=3707)\u001b[0m Epoch 2: train loss 0.10101502388715744, accuracy 0.17777777777777778\n",
            "\u001b[2m\u001b[36m(launch_and_fit pid=3707)\u001b[0m Epoch 3: train loss 0.09944112598896027, accuracy 0.13333333333333333\n",
            "\u001b[2m\u001b[36m(launch_and_fit pid=3708)\u001b[0m Epoch 3: train loss 0.09695614874362946, accuracy 0.15555555555555556\n",
            "\u001b[2m\u001b[36m(launch_and_fit pid=3707)\u001b[0m [Client 509, round 3] fit, config: {'server_round': 3, 'local_epochs': 3}\n",
            "\u001b[2m\u001b[36m(launch_and_fit pid=3707)\u001b[0m Epoch 1: train loss 0.10238755494356155, accuracy 0.1111111111111111\n",
            "\u001b[2m\u001b[36m(launch_and_fit pid=3708)\u001b[0m [Client 201, round 3] fit, config: {'server_round': 3, 'local_epochs': 3}\n",
            "\u001b[2m\u001b[36m(launch_and_fit pid=3708)\u001b[0m Epoch 1: train loss 0.10238640755414963, accuracy 0.1111111111111111\n",
            "\u001b[2m\u001b[36m(launch_and_fit pid=3708)\u001b[0m Epoch 2: train loss 0.10054927319288254, accuracy 0.2\n",
            "\u001b[2m\u001b[36m(launch_and_fit pid=3707)\u001b[0m Epoch 2: train loss 0.09864950180053711, accuracy 0.08888888888888889\n",
            "\u001b[2m\u001b[36m(launch_and_fit pid=3708)\u001b[0m Epoch 3: train loss 0.0988064855337143, accuracy 0.2222222222222222\n",
            "\u001b[2m\u001b[36m(launch_and_fit pid=3707)\u001b[0m Epoch 3: train loss 0.09789087623357773, accuracy 0.24444444444444444\n",
            "\u001b[2m\u001b[36m(launch_and_fit pid=3708)\u001b[0m [Client 974, round 3] fit, config: {'server_round': 3, 'local_epochs': 3}\n",
            "\u001b[2m\u001b[36m(launch_and_fit pid=3707)\u001b[0m [Client 118, round 3] fit, config: {'server_round': 3, 'local_epochs': 3}\n",
            "\u001b[2m\u001b[36m(launch_and_fit pid=3708)\u001b[0m Epoch 1: train loss 0.10319095104932785, accuracy 0.08888888888888889\n",
            "\u001b[2m\u001b[36m(launch_and_fit pid=3707)\u001b[0m Epoch 1: train loss 0.10194515436887741, accuracy 0.08888888888888889\n",
            "\u001b[2m\u001b[36m(launch_and_fit pid=3708)\u001b[0m Epoch 2: train loss 0.10095302760601044, accuracy 0.08888888888888889\n",
            "\u001b[2m\u001b[36m(launch_and_fit pid=3708)\u001b[0m Epoch 3: train loss 0.10005298256874084, accuracy 0.24444444444444444\n",
            "\u001b[2m\u001b[36m(launch_and_fit pid=3707)\u001b[0m Epoch 2: train loss 0.10032034665346146, accuracy 0.13333333333333333\n",
            "\u001b[2m\u001b[36m(launch_and_fit pid=3707)\u001b[0m Epoch 3: train loss 0.09789908677339554, accuracy 0.3333333333333333\n",
            "\u001b[2m\u001b[36m(launch_and_fit pid=3708)\u001b[0m [Client 797, round 3] fit, config: {'server_round': 3, 'local_epochs': 3}\n",
            "\u001b[2m\u001b[36m(launch_and_fit pid=3708)\u001b[0m Epoch 1: train loss 0.10277549177408218, accuracy 0.022222222222222223\n",
            "\u001b[2m\u001b[36m(launch_and_fit pid=3707)\u001b[0m [Client 12, round 3] fit, config: {'server_round': 3, 'local_epochs': 3}\n",
            "\u001b[2m\u001b[36m(launch_and_fit pid=3708)\u001b[0m Epoch 2: train loss 0.10031464695930481, accuracy 0.13333333333333333\n",
            "\u001b[2m\u001b[36m(launch_and_fit pid=3707)\u001b[0m Epoch 1: train loss 0.10155174136161804, accuracy 0.1111111111111111\n",
            "\u001b[2m\u001b[36m(launch_and_fit pid=3708)\u001b[0m Epoch 3: train loss 0.09772747755050659, accuracy 0.26666666666666666\n",
            "\u001b[2m\u001b[36m(launch_and_fit pid=3707)\u001b[0m Epoch 2: train loss 0.10106924176216125, accuracy 0.2\n",
            "\u001b[2m\u001b[36m(launch_and_fit pid=3707)\u001b[0m Epoch 3: train loss 0.09988360852003098, accuracy 0.2\n",
            "\u001b[2m\u001b[36m(launch_and_fit pid=3707)\u001b[0m [Client 693, round 3] fit, config: {'server_round': 3, 'local_epochs': 3}\n",
            "\u001b[2m\u001b[36m(launch_and_fit pid=3708)\u001b[0m [Client 290, round 3] fit, config: {'server_round': 3, 'local_epochs': 3}\n",
            "\u001b[2m\u001b[36m(launch_and_fit pid=3707)\u001b[0m Epoch 1: train loss 0.10224483162164688, accuracy 0.15555555555555556\n",
            "\u001b[2m\u001b[36m(launch_and_fit pid=3707)\u001b[0m Epoch 2: train loss 0.10032658278942108, accuracy 0.13333333333333333\n",
            "\u001b[2m\u001b[36m(launch_and_fit pid=3708)\u001b[0m Epoch 1: train loss 0.10211057960987091, accuracy 0.1111111111111111\n",
            "\u001b[2m\u001b[36m(launch_and_fit pid=3707)\u001b[0m Epoch 3: train loss 0.09829364717006683, accuracy 0.2\n",
            "\u001b[2m\u001b[36m(launch_and_fit pid=3708)\u001b[0m Epoch 2: train loss 0.10044670104980469, accuracy 0.24444444444444444\n",
            "\u001b[2m\u001b[36m(launch_and_fit pid=3708)\u001b[0m Epoch 3: train loss 0.09917454421520233, accuracy 0.26666666666666666\n",
            "\u001b[2m\u001b[36m(launch_and_fit pid=3707)\u001b[0m [Client 865, round 3] fit, config: {'server_round': 3, 'local_epochs': 3}\n",
            "\u001b[2m\u001b[36m(launch_and_fit pid=3707)\u001b[0m Epoch 1: train loss 0.10180889070034027, accuracy 0.1111111111111111\n",
            "\u001b[2m\u001b[36m(launch_and_fit pid=3707)\u001b[0m Epoch 2: train loss 0.099817655980587, accuracy 0.2222222222222222\n",
            "\u001b[2m\u001b[36m(launch_and_fit pid=3708)\u001b[0m [Client 287, round 3] fit, config: {'server_round': 3, 'local_epochs': 3}\n",
            "\u001b[2m\u001b[36m(launch_and_fit pid=3707)\u001b[0m Epoch 3: train loss 0.09780844300985336, accuracy 0.24444444444444444\n",
            "\u001b[2m\u001b[36m(launch_and_fit pid=3708)\u001b[0m Epoch 1: train loss 0.10102643072605133, accuracy 0.15555555555555556\n",
            "\u001b[2m\u001b[36m(launch_and_fit pid=3708)\u001b[0m Epoch 2: train loss 0.09951799362897873, accuracy 0.17777777777777778\n",
            "\u001b[2m\u001b[36m(launch_and_fit pid=3708)\u001b[0m Epoch 3: train loss 0.09677909314632416, accuracy 0.15555555555555556\n",
            "\u001b[2m\u001b[36m(launch_and_fit pid=3707)\u001b[0m [Client 381, round 3] fit, config: {'server_round': 3, 'local_epochs': 3}\n",
            "\u001b[2m\u001b[36m(launch_and_fit pid=3707)\u001b[0m Epoch 1: train loss 0.10095475614070892, accuracy 0.2\n",
            "\u001b[2m\u001b[36m(launch_and_fit pid=3707)\u001b[0m Epoch 2: train loss 0.09974569827318192, accuracy 0.2\n",
            "\u001b[2m\u001b[36m(launch_and_fit pid=3707)\u001b[0m Epoch 3: train loss 0.0942034050822258, accuracy 0.2\n",
            "\u001b[2m\u001b[36m(launch_and_fit pid=3708)\u001b[0m [Client 792, round 3] fit, config: {'server_round': 3, 'local_epochs': 3}\n",
            "\u001b[2m\u001b[36m(launch_and_fit pid=3708)\u001b[0m Epoch 1: train loss 0.10075720399618149, accuracy 0.2\n",
            "\u001b[2m\u001b[36m(launch_and_fit pid=3708)\u001b[0m Epoch 2: train loss 0.09821244329214096, accuracy 0.17777777777777778\n",
            "\u001b[2m\u001b[36m(launch_and_fit pid=3708)\u001b[0m Epoch 3: train loss 0.09492848813533783, accuracy 0.17777777777777778\n"
          ]
        },
        {
          "output_type": "stream",
          "name": "stderr",
          "text": [
            "\u001b[2m\u001b[36m(raylet)\u001b[0m Spilled 17106 MiB, 205 objects, write throughput 240 MiB/s.\n"
          ]
        },
        {
          "output_type": "stream",
          "name": "stdout",
          "text": [
            "\u001b[2m\u001b[36m(launch_and_fit pid=3708)\u001b[0m [Client 780, round 3] fit, config: {'server_round': 3, 'local_epochs': 3}\n",
            "\u001b[2m\u001b[36m(launch_and_fit pid=3708)\u001b[0m Epoch 1: train loss 0.10220760852098465, accuracy 0.1111111111111111\n",
            "\u001b[2m\u001b[36m(launch_and_fit pid=3707)\u001b[0m [Client 370, round 3] fit, config: {'server_round': 3, 'local_epochs': 3}\n",
            "\u001b[2m\u001b[36m(launch_and_fit pid=3708)\u001b[0m Epoch 2: train loss 0.1003057137131691, accuracy 0.15555555555555556\n",
            "\u001b[2m\u001b[36m(launch_and_fit pid=3707)\u001b[0m Epoch 1: train loss 0.10120991617441177, accuracy 0.1111111111111111\n",
            "\u001b[2m\u001b[36m(launch_and_fit pid=3708)\u001b[0m Epoch 3: train loss 0.0975671336054802, accuracy 0.17777777777777778\n",
            "\u001b[2m\u001b[36m(launch_and_fit pid=3707)\u001b[0m Epoch 2: train loss 0.10009924322366714, accuracy 0.2222222222222222\n",
            "\u001b[2m\u001b[36m(launch_and_fit pid=3707)\u001b[0m Epoch 3: train loss 0.09921033680438995, accuracy 0.2\n",
            "\u001b[2m\u001b[36m(launch_and_fit pid=3707)\u001b[0m [Client 734, round 3] fit, config: {'server_round': 3, 'local_epochs': 3}\n",
            "\u001b[2m\u001b[36m(launch_and_fit pid=3707)\u001b[0m Epoch 1: train loss 0.10208448022603989, accuracy 0.13333333333333333\n",
            "\u001b[2m\u001b[36m(launch_and_fit pid=3707)\u001b[0m Epoch 2: train loss 0.10029760003089905, accuracy 0.15555555555555556\n",
            "\u001b[2m\u001b[36m(launch_and_fit pid=3707)\u001b[0m Epoch 3: train loss 0.09880731254816055, accuracy 0.28888888888888886\n",
            "\u001b[2m\u001b[36m(launch_and_fit pid=3707)\u001b[0m [Client 524, round 3] fit, config: {'server_round': 3, 'local_epochs': 3}\n",
            "\u001b[2m\u001b[36m(launch_and_fit pid=3708)\u001b[0m [Client 733, round 3] fit, config: {'server_round': 3, 'local_epochs': 3}\n",
            "\u001b[2m\u001b[36m(launch_and_fit pid=3708)\u001b[0m Epoch 1: train loss 0.10210997611284256, accuracy 0.13333333333333333\n",
            "\u001b[2m\u001b[36m(launch_and_fit pid=3708)\u001b[0m Epoch 2: train loss 0.10024689882993698, accuracy 0.24444444444444444\n",
            "\u001b[2m\u001b[36m(launch_and_fit pid=3707)\u001b[0m Epoch 1: train loss 0.10230958461761475, accuracy 0.08888888888888889\n",
            "\u001b[2m\u001b[36m(launch_and_fit pid=3708)\u001b[0m Epoch 3: train loss 0.09916973114013672, accuracy 0.3111111111111111\n",
            "\u001b[2m\u001b[36m(launch_and_fit pid=3707)\u001b[0m Epoch 2: train loss 0.10062827914953232, accuracy 0.2\n",
            "\u001b[2m\u001b[36m(launch_and_fit pid=3707)\u001b[0m Epoch 3: train loss 0.09872858226299286, accuracy 0.26666666666666666\n",
            "\u001b[2m\u001b[36m(launch_and_fit pid=3707)\u001b[0m [Client 160, round 3] fit, config: {'server_round': 3, 'local_epochs': 3}\n",
            "\u001b[2m\u001b[36m(launch_and_fit pid=3708)\u001b[0m [Client 757, round 3] fit, config: {'server_round': 3, 'local_epochs': 3}\n",
            "\u001b[2m\u001b[36m(launch_and_fit pid=3708)\u001b[0m Epoch 1: train loss 0.10198826342821121, accuracy 0.1111111111111111\n",
            "\u001b[2m\u001b[36m(launch_and_fit pid=3707)\u001b[0m Epoch 1: train loss 0.10077717155218124, accuracy 0.2\n"
          ]
        },
        {
          "output_type": "stream",
          "name": "stderr",
          "text": [
            "DEBUG flwr 2023-04-08 00:51:32,093 | server.py:229 | fit_round 3 received 25 results and 0 failures\n",
            "DEBUG:flwr:fit_round 3 received 25 results and 0 failures\n",
            "DEBUG flwr 2023-04-08 00:51:32,218 | server.py:165 | evaluate_round 3: strategy sampled 50 clients (out of 1000)\n",
            "DEBUG:flwr:evaluate_round 3: strategy sampled 50 clients (out of 1000)\n"
          ]
        },
        {
          "output_type": "stream",
          "name": "stdout",
          "text": [
            "\u001b[2m\u001b[36m(launch_and_fit pid=3707)\u001b[0m Epoch 2: train loss 0.09834984689950943, accuracy 0.17777777777777778\n",
            "\u001b[2m\u001b[36m(launch_and_fit pid=3708)\u001b[0m Epoch 2: train loss 0.1005382314324379, accuracy 0.1111111111111111\n",
            "\u001b[2m\u001b[36m(launch_and_fit pid=3708)\u001b[0m Epoch 3: train loss 0.09806687384843826, accuracy 0.2\n",
            "\u001b[2m\u001b[36m(launch_and_fit pid=3707)\u001b[0m Epoch 3: train loss 0.09823138266801834, accuracy 0.2\n",
            "\u001b[2m\u001b[36m(launch_and_evaluate pid=3708)\u001b[0m [Client 402] evaluate, config: {}\n",
            "\u001b[2m\u001b[36m(launch_and_evaluate pid=3707)\u001b[0m [Client 394] evaluate, config: {}\n",
            "\u001b[2m\u001b[36m(launch_and_evaluate pid=3708)\u001b[0m [Client 82] evaluate, config: {}\n",
            "\u001b[2m\u001b[36m(launch_and_evaluate pid=3707)\u001b[0m [Client 555] evaluate, config: {}\n",
            "\u001b[2m\u001b[36m(launch_and_evaluate pid=3708)\u001b[0m [Client 189] evaluate, config: {}\n",
            "\u001b[2m\u001b[36m(launch_and_evaluate pid=3707)\u001b[0m [Client 939] evaluate, config: {}\n",
            "\u001b[2m\u001b[36m(launch_and_evaluate pid=3707)\u001b[0m [Client 993] evaluate, config: {}\n",
            "\u001b[2m\u001b[36m(launch_and_evaluate pid=3708)\u001b[0m [Client 230] evaluate, config: {}\n",
            "\u001b[2m\u001b[36m(launch_and_evaluate pid=3708)\u001b[0m [Client 459] evaluate, config: {}\n",
            "\u001b[2m\u001b[36m(launch_and_evaluate pid=3707)\u001b[0m [Client 921] evaluate, config: {}\n",
            "\u001b[2m\u001b[36m(launch_and_evaluate pid=3708)\u001b[0m [Client 441] evaluate, config: {}\n",
            "\u001b[2m\u001b[36m(launch_and_evaluate pid=3707)\u001b[0m [Client 236] evaluate, config: {}\n",
            "\u001b[2m\u001b[36m(launch_and_evaluate pid=3708)\u001b[0m [Client 511] evaluate, config: {}\n",
            "\u001b[2m\u001b[36m(launch_and_evaluate pid=3707)\u001b[0m [Client 27] evaluate, config: {}\n",
            "\u001b[2m\u001b[36m(launch_and_evaluate pid=3708)\u001b[0m [Client 41] evaluate, config: {}\n",
            "\u001b[2m\u001b[36m(launch_and_evaluate pid=3708)\u001b[0m [Client 254] evaluate, config: {}\n",
            "\u001b[2m\u001b[36m(launch_and_evaluate pid=3707)\u001b[0m [Client 18] evaluate, config: {}\n",
            "\u001b[2m\u001b[36m(launch_and_evaluate pid=3708)\u001b[0m [Client 414] evaluate, config: {}\n",
            "\u001b[2m\u001b[36m(launch_and_evaluate pid=3708)\u001b[0m [Client 516] evaluate, config: {}\n",
            "\u001b[2m\u001b[36m(launch_and_evaluate pid=3707)\u001b[0m [Client 717] evaluate, config: {}\n",
            "\u001b[2m\u001b[36m(launch_and_evaluate pid=3708)\u001b[0m [Client 149] evaluate, config: {}\n",
            "\u001b[2m\u001b[36m(launch_and_evaluate pid=3707)\u001b[0m [Client 589] evaluate, config: {}\n",
            "\u001b[2m\u001b[36m(launch_and_evaluate pid=3708)\u001b[0m [Client 373] evaluate, config: {}\n",
            "\u001b[2m\u001b[36m(launch_and_evaluate pid=3707)\u001b[0m [Client 401] evaluate, config: {}\n",
            "\u001b[2m\u001b[36m(launch_and_evaluate pid=3707)\u001b[0m [Client 850] evaluate, config: {}\n",
            "\u001b[2m\u001b[36m(launch_and_evaluate pid=3708)\u001b[0m [Client 910] evaluate, config: {}\n",
            "\u001b[2m\u001b[36m(launch_and_evaluate pid=3708)\u001b[0m [Client 527] evaluate, config: {}\n",
            "\u001b[2m\u001b[36m(launch_and_evaluate pid=3708)\u001b[0m [Client 982] evaluate, config: {}\n",
            "\u001b[2m\u001b[36m(launch_and_evaluate pid=3707)\u001b[0m [Client 319] evaluate, config: {}\n",
            "\u001b[2m\u001b[36m(launch_and_evaluate pid=3708)\u001b[0m [Client 244] evaluate, config: {}\n",
            "\u001b[2m\u001b[36m(launch_and_evaluate pid=3707)\u001b[0m [Client 644] evaluate, config: {}\n",
            "\u001b[2m\u001b[36m(launch_and_evaluate pid=3708)\u001b[0m [Client 83] evaluate, config: {}\n",
            "\u001b[2m\u001b[36m(launch_and_evaluate pid=3707)\u001b[0m [Client 925] evaluate, config: {}\n",
            "\u001b[2m\u001b[36m(launch_and_evaluate pid=3708)\u001b[0m [Client 767] evaluate, config: {}\n",
            "\u001b[2m\u001b[36m(launch_and_evaluate pid=3707)\u001b[0m [Client 125] evaluate, config: {}\n",
            "\u001b[2m\u001b[36m(launch_and_evaluate pid=3708)\u001b[0m [Client 483] evaluate, config: {}\n",
            "\u001b[2m\u001b[36m(launch_and_evaluate pid=3707)\u001b[0m [Client 186] evaluate, config: {}\n",
            "\u001b[2m\u001b[36m(launch_and_evaluate pid=3708)\u001b[0m [Client 473] evaluate, config: {}\n",
            "\u001b[2m\u001b[36m(launch_and_evaluate pid=3707)\u001b[0m [Client 240] evaluate, config: {}\n",
            "\u001b[2m\u001b[36m(launch_and_evaluate pid=3707)\u001b[0m [Client 613] evaluate, config: {}\n",
            "\u001b[2m\u001b[36m(launch_and_evaluate pid=3708)\u001b[0m [Client 408] evaluate, config: {}\n",
            "\u001b[2m\u001b[36m(launch_and_evaluate pid=3707)\u001b[0m [Client 98] evaluate, config: {}\n",
            "\u001b[2m\u001b[36m(launch_and_evaluate pid=3707)\u001b[0m [Client 928] evaluate, config: {}\n",
            "\u001b[2m\u001b[36m(launch_and_evaluate pid=3708)\u001b[0m [Client 882] evaluate, config: {}\n",
            "\u001b[2m\u001b[36m(launch_and_evaluate pid=3707)\u001b[0m [Client 889] evaluate, config: {}\n",
            "\u001b[2m\u001b[36m(launch_and_evaluate pid=3708)\u001b[0m [Client 117] evaluate, config: {}\n",
            "\u001b[2m\u001b[36m(launch_and_evaluate pid=3707)\u001b[0m [Client 273] evaluate, config: {}\n",
            "\u001b[2m\u001b[36m(launch_and_evaluate pid=3708)\u001b[0m [Client 152] evaluate, config: {}\n"
          ]
        },
        {
          "output_type": "stream",
          "name": "stderr",
          "text": [
            "DEBUG flwr 2023-04-08 00:52:58,657 | server.py:179 | evaluate_round 3 received 50 results and 0 failures\n",
            "DEBUG:flwr:evaluate_round 3 received 50 results and 0 failures\n",
            "INFO flwr 2023-04-08 00:52:58,663 | server.py:144 | FL finished in 388.21898469399997\n",
            "INFO:flwr:FL finished in 388.21898469399997\n",
            "INFO flwr 2023-04-08 00:52:58,667 | app.py:202 | app_fit: losses_distributed [(1, 0.45937115573883064), (2, 0.45756772041320787), (3, 0.45411158275604246)]\n",
            "INFO:flwr:app_fit: losses_distributed [(1, 0.45937115573883064), (2, 0.45756772041320787), (3, 0.45411158275604246)]\n",
            "INFO flwr 2023-04-08 00:52:58,674 | app.py:203 | app_fit: metrics_distributed {}\n",
            "INFO:flwr:app_fit: metrics_distributed {}\n",
            "INFO flwr 2023-04-08 00:52:58,676 | app.py:204 | app_fit: losses_centralized []\n",
            "INFO:flwr:app_fit: losses_centralized []\n",
            "INFO flwr 2023-04-08 00:52:58,678 | app.py:205 | app_fit: metrics_centralized {}\n",
            "INFO:flwr:app_fit: metrics_centralized {}\n"
          ]
        },
        {
          "output_type": "stream",
          "name": "stdout",
          "text": [
            "\u001b[2m\u001b[36m(launch_and_evaluate pid=3708)\u001b[0m [Client 436] evaluate, config: {}\n",
            "\u001b[2m\u001b[36m(launch_and_evaluate pid=3707)\u001b[0m [Client 279] evaluate, config: {}\n"
          ]
        },
        {
          "output_type": "execute_result",
          "data": {
            "text/plain": [
              "History (loss, distributed):\n",
              "\tround 1: 0.45937115573883064\n",
              "\tround 2: 0.45756772041320787\n",
              "\tround 3: 0.45411158275604246"
            ]
          },
          "metadata": {},
          "execution_count": 14
        }
      ],
      "source": [
        "def fit_config(server_round: int):\n",
        "    config = {\n",
        "        \"server_round\": server_round,\n",
        "        \"local_epochs\": 3,\n",
        "    }\n",
        "    return config\n",
        "\n",
        "\n",
        "strategy = fl.server.strategy.FedAvg(\n",
        "    fraction_fit=0.025,  # Train on 25 clients (each round)\n",
        "    fraction_evaluate=0.05,  # Evaluate on 50 clients (each round)\n",
        "    min_fit_clients=20,\n",
        "    min_evaluate_clients=40,\n",
        "    min_available_clients=NUM_CLIENTS,\n",
        "    initial_parameters=fl.common.ndarrays_to_parameters(get_parameters(Net())),\n",
        "    on_fit_config_fn=fit_config,\n",
        ")\n",
        "\n",
        "fl.simulation.start_simulation(\n",
        "    client_fn=client_fn,\n",
        "    num_clients=NUM_CLIENTS,\n",
        "    config=fl.server.ServerConfig(num_rounds=3),  # Just three rounds\n",
        "    strategy=strategy,\n",
        "    client_resources=client_resources,\n",
        ")"
      ]
    },
    {
      "cell_type": "markdown",
      "metadata": {
        "id": "SPYEvxqRQuN6"
      },
      "source": [
        "## Recap\n",
        "\n",
        "In this notebook, we've seen how we can gradually enhance our system by customizing the strategy, initializing parameters on the server side, choosing a different strategy, and evaluating models on the server-side. That's quite a bit of flexibility with so little code, right?\n",
        "\n",
        "In the later sections, we've seen how we can communicate arbitrary values between server and clients to fully customize client-side execution. With that capability, we built a large-scale Federated Learning simulation using the Flower Virtual Client Engine and ran an experiment involving 1000 clients in the same workload - all in a Jupyter Notebook!"
      ]
    },
    {
      "cell_type": "markdown",
      "metadata": {
        "id": "AYWT7ZwhQuN6"
      },
      "source": [
        "## Next steps\n",
        "\n",
        "Before you continue, make sure to join the Flower community on Slack: [Join Slack](https://flower.dev/join-slack/)\n",
        "\n",
        "There's a dedicated `#questions` channel if you need help, but we'd also love to hear who you are in `#introductions`!\n",
        "\n",
        "The [Flower Federated Learning Tutorial - Part 3 [WIP]](https://flower.dev/docs/tutorial/Flower-3-Building-a-Strategy-PyTorch.html) shows how to build a fully custom `Strategy` from scratch."
      ]
    }
  ],
  "metadata": {
    "colab": {
      "provenance": [],
      "toc_visible": true
    },
    "kernelspec": {
      "display_name": "Python 3.7.12 64-bit ('flower-3.7.12')",
      "language": "python",
      "name": "python3"
    },
    "accelerator": "GPU",
    "gpuClass": "standard"
  },
  "nbformat": 4,
  "nbformat_minor": 0
}